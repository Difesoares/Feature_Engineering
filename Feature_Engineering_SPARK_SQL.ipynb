{
  "nbformat": 4,
  "nbformat_minor": 0,
  "metadata": {
    "colab": {
      "provenance": [],
      "mount_file_id": "1WJiZ2LEGhJ4OUPoB6Z3WPwfsYljWGj2a",
      "authorship_tag": "ABX9TyN+fR+6d5qSoYhczPJbrE6b",
      "include_colab_link": true
    },
    "kernelspec": {
      "name": "python3",
      "display_name": "Python 3"
    },
    "language_info": {
      "name": "python"
    }
  },
  "cells": [
    {
      "cell_type": "markdown",
      "metadata": {
        "id": "view-in-github",
        "colab_type": "text"
      },
      "source": [
        "<a href=\"https://colab.research.google.com/github/Difesoares/Feature_Engineering/blob/main/Feature_Engineering_SPARK_SQL.ipynb\" target=\"_parent\"><img src=\"https://colab.research.google.com/assets/colab-badge.svg\" alt=\"Open In Colab\"/></a>"
      ]
    },
    {
      "cell_type": "markdown",
      "source": [
        "## **Feature Engineering**\n",
        "\n",
        "Esse projeto tem o objetivo de criar variáveis explicativas para melhorar o modelo de Machine Learning. Serão utilizadas duas tabelas:\n",
        "\n",
        "*   **Base de Churn** com informações cadastrais de 1000 pessoas;\n",
        "*   **Base de Transações** contendo as transações históricas de compras feitas por essas pessoas, incluindo detalhes como data da compra, valor gasto e categoria do produto.\n",
        "\n",
        "\n"
      ],
      "metadata": {
        "id": "XcZAvMm21T_j"
      }
    },
    {
      "cell_type": "markdown",
      "source": [
        "## **Iniciando Spark**"
      ],
      "metadata": {
        "id": "ftU3gpTW5ebX"
      }
    },
    {
      "cell_type": "code",
      "execution_count": null,
      "metadata": {
        "id": "OZthi7WfRWL5"
      },
      "outputs": [],
      "source": [
        "!apt-get install openjdk-8-jdk-headless -qq > /dev/null\n",
        "!wget -q https://archive.apache.org/dist/spark/spark-3.1.2/spark-3.1.2-bin-hadoop3.2.tgz\n",
        "!tar xf spark-3.1.2-bin-hadoop3.2.tgz\n",
        "!pip install -q findspark"
      ]
    },
    {
      "cell_type": "code",
      "source": [
        "import os\n",
        "os.environ[\"JAVA_HOME\"] = \"/usr/lib/jvm/java-8-openjdk-amd64\"\n",
        "os.environ[\"SPARK_HOME\"] = \"/content/spark-3.1.2-bin-hadoop3.2\""
      ],
      "metadata": {
        "id": "XquV7HccSS_9"
      },
      "execution_count": null,
      "outputs": []
    },
    {
      "cell_type": "code",
      "source": [
        "import findspark\n",
        "findspark.init()\n",
        "from pyspark.sql import SparkSession\n",
        "spark = SparkSession.builder.master(\"local[*]\").getOrCreate()"
      ],
      "metadata": {
        "id": "qlyQ_6thSS9V"
      },
      "execution_count": null,
      "outputs": []
    },
    {
      "cell_type": "markdown",
      "source": [
        "## **Lendo dados com SPARK**"
      ],
      "metadata": {
        "id": "RgphT-fTSpRW"
      }
    },
    {
      "cell_type": "code",
      "source": [
        "df_transacoes = spark.read.csv(\"/content/drive/MyDrive/POD Academy/Feature_Engineering_Eng_dados/base_transacoes.csv\",\n",
        "                               header=True,\n",
        "                               inferSchema=True)\n",
        "\n",
        "## Habilitando uso do SparkSQL\n",
        "df_transacoes.createOrReplaceTempView(\"df_transacoes\")"
      ],
      "metadata": {
        "id": "K7YdCTK8SS32"
      },
      "execution_count": null,
      "outputs": []
    },
    {
      "cell_type": "code",
      "source": [
        "df_publico = spark.read.csv(\"/content/drive/MyDrive/POD Academy/Feature_Engineering_Eng_dados/base_churn.csv\",\n",
        "                            header=True,\n",
        "                            inferSchema=True)\n",
        "\n",
        "# Habilitando uso do SparkSQL\n",
        "df_publico.createOrReplaceTempView(\"df_publico\")"
      ],
      "metadata": {
        "id": "4NENd_p6SghE"
      },
      "execution_count": null,
      "outputs": []
    },
    {
      "cell_type": "markdown",
      "source": [
        "## **Vendo Schemas e abrindo as tabelas**"
      ],
      "metadata": {
        "id": "_hit9650vUym"
      }
    },
    {
      "cell_type": "code",
      "source": [
        "df_publico.printSchema()"
      ],
      "metadata": {
        "colab": {
          "base_uri": "https://localhost:8080/"
        },
        "id": "brobo6Azvza5",
        "outputId": "b1bfc1a3-e0a5-4bbe-df1d-767f0c472df2"
      },
      "execution_count": null,
      "outputs": [
        {
          "output_type": "stream",
          "name": "stdout",
          "text": [
            "root\n",
            " |-- ID: integer (nullable = true)\n",
            " |-- Idade: integer (nullable = true)\n",
            " |-- Gênero: string (nullable = true)\n",
            " |-- Dias desde a Inscrição: integer (nullable = true)\n",
            " |-- Usou Suporte: integer (nullable = true)\n",
            " |-- Plano: string (nullable = true)\n",
            " |-- Churn: integer (nullable = true)\n",
            "\n"
          ]
        }
      ]
    },
    {
      "cell_type": "code",
      "source": [
        "df_transacoes.printSchema()"
      ],
      "metadata": {
        "colab": {
          "base_uri": "https://localhost:8080/"
        },
        "id": "vfaR4Wdfv4Al",
        "outputId": "0ba14d51-c621-4309-c694-87359a3ec8ca"
      },
      "execution_count": null,
      "outputs": [
        {
          "output_type": "stream",
          "name": "stdout",
          "text": [
            "root\n",
            " |-- ID Transação: integer (nullable = true)\n",
            " |-- ID Cliente: integer (nullable = true)\n",
            " |-- Data: string (nullable = true)\n",
            " |-- Valor: double (nullable = true)\n",
            " |-- Categoria: string (nullable = true)\n",
            "\n"
          ]
        }
      ]
    },
    {
      "cell_type": "code",
      "source": [
        "df_publico.show(10)"
      ],
      "metadata": {
        "colab": {
          "base_uri": "https://localhost:8080/"
        },
        "id": "jeWdjVDJSgeM",
        "outputId": "2282c7ca-e8d8-48c1-ee80-9e26ed08a8ec"
      },
      "execution_count": null,
      "outputs": [
        {
          "output_type": "stream",
          "name": "stdout",
          "text": [
            "+---+-----+------+----------------------+------------+-------------+-----+\n",
            "| ID|Idade|Gênero|Dias desde a Inscrição|Usou Suporte|        Plano|Churn|\n",
            "+---+-----+------+----------------------+------------+-------------+-----+\n",
            "|  1|   21|     F|                  1331|           1|Intermediário|    1|\n",
            "|  2|   21|     M|                  1160|           0|Intermediário|    0|\n",
            "|  3|   62|     M|                   454|           1|       Básico|    0|\n",
            "|  4|   64|     M|                   226|           1|Intermediário|    0|\n",
            "|  5|   61|     M|                   474|           1|     Avançado|    0|\n",
            "|  6|   18|     M|                   419|           0|       Básico|    0|\n",
            "|  7|   52|     M|                  1334|           0|       Básico|    0|\n",
            "|  8|   44|     M|                  1124|           1|Intermediário|    0|\n",
            "|  9|   52|     M|                  1256|           1|Intermediário|    0|\n",
            "| 10|   64|     F|                  1197|           0|       Básico|    0|\n",
            "+---+-----+------+----------------------+------------+-------------+-----+\n",
            "only showing top 10 rows\n",
            "\n"
          ]
        }
      ]
    },
    {
      "cell_type": "code",
      "source": [
        "df_transacoes.show(10, False)"
      ],
      "metadata": {
        "colab": {
          "base_uri": "https://localhost:8080/"
        },
        "id": "CoF8GSDdSga2",
        "outputId": "606b29e4-0771-4afe-94ff-5ad185ac38f6"
      },
      "execution_count": null,
      "outputs": [
        {
          "output_type": "stream",
          "name": "stdout",
          "text": [
            "+------------+----------+-----------------------------+------------------+-----------+\n",
            "|ID Transação|ID Cliente|Data                         |Valor             |Categoria  |\n",
            "+------------+----------+-----------------------------+------------------+-----------+\n",
            "|1           |1         |2022-11-25 13:50:26.548672560|57.287427536330505|Esportes   |\n",
            "|2           |1         |2020-01-19 12:27:36.637168141|97.07199340552512 |Alimentos  |\n",
            "|3           |1         |2021-12-28 12:33:58.938053096|169.10581012381087|Livros     |\n",
            "|4           |1         |2022-02-05 01:39:49.380530968|199.38694865538451|Roupas     |\n",
            "|5           |1         |2022-11-16 23:06:54.159292032|160.00228343317622|Eletrônicos|\n",
            "|6           |1         |2020-04-25 12:42:28.672566372|9.842481270765422 |Alimentos  |\n",
            "|7           |1         |2022-10-31 22:05:18.584070800|76.90706330227667 |Eletrônicos|\n",
            "|8           |1         |2020-10-06 12:14:52.035398228|53.20607404593595 |Roupas     |\n",
            "|9           |1         |2022-11-02 12:50:58.407079648|193.00568791656067|Livros     |\n",
            "|10          |1         |2020-09-06 21:37:41.946902652|56.524638713138636|Alimentos  |\n",
            "+------------+----------+-----------------------------+------------------+-----------+\n",
            "only showing top 10 rows\n",
            "\n"
          ]
        }
      ]
    },
    {
      "cell_type": "markdown",
      "source": [
        "## **Criando variáveis explicativas**\n",
        "\n"
      ],
      "metadata": {
        "id": "YilzCZH5wv7m"
      }
    },
    {
      "cell_type": "code",
      "source": [
        "# Tempo desde a Última Transação\n",
        "\n",
        "df_temp_ult_trans = spark.sql (\"\"\"\n",
        "SELECT\n",
        "    `ID Cliente`,\n",
        "    DATEDIFF(\n",
        "        (SELECT MAX(Data) FROM df_transacoes),\n",
        "        MAX(Data)\n",
        "    ) AS dias_desde_ultima_transacao\n",
        "FROM\n",
        "    df_transacoes\n",
        "GROUP BY\n",
        "    `ID Cliente`;\n",
        "\n",
        "\"\"\").show()"
      ],
      "metadata": {
        "colab": {
          "base_uri": "https://localhost:8080/"
        },
        "id": "r_tjffmCD5RC",
        "outputId": "0df4a446-0f1a-4bf8-f164-065a3b7eb12b"
      },
      "execution_count": null,
      "outputs": [
        {
          "output_type": "stream",
          "name": "stdout",
          "text": [
            "+----------+---------------------------+\n",
            "|ID Cliente|dias_desde_ultima_transacao|\n",
            "+----------+---------------------------+\n",
            "|       148|                         26|\n",
            "|       463|                         51|\n",
            "|       471|                         14|\n",
            "|       496|                        487|\n",
            "|       833|                        175|\n",
            "|       243|                        179|\n",
            "|       392|                         21|\n",
            "|       540|                          4|\n",
            "|       623|                        140|\n",
            "|       737|                        120|\n",
            "|       858|                        862|\n",
            "|       897|                         70|\n",
            "|        31|                         30|\n",
            "|       516|                        903|\n",
            "|        85|                         11|\n",
            "|       137|                         18|\n",
            "|       251|                        258|\n",
            "|       451|                         65|\n",
            "|       580|                         39|\n",
            "|       808|                         15|\n",
            "+----------+---------------------------+\n",
            "only showing top 20 rows\n",
            "\n"
          ]
        }
      ]
    },
    {
      "cell_type": "code",
      "source": [
        "# FREQUENCIA DE COMPRA\n",
        "\n",
        "df_freq_compra_mensal = spark.sql(\"\"\"\n",
        "SELECT `ID Cliente`, (COUNT(*) / (p.`Dias desde a Inscrição`/ 30)) as FREQ_COMPRA_MENSAL\n",
        "FROM\n",
        "  df_transacoes as t\n",
        "LEFT JOIN\n",
        "  df_publico as p\n",
        "on\n",
        "  t.`ID Cliente` = p.`ID`\n",
        "\n",
        "GROUP BY t.`ID Cliente`, p.`Dias desde a Inscrição`\n",
        "\n",
        "\"\"\").show()"
      ],
      "metadata": {
        "colab": {
          "base_uri": "https://localhost:8080/"
        },
        "id": "4PeEeyjJAASc",
        "outputId": "5dff8553-c3c4-46bf-d9d8-8003bcc2f5a4"
      },
      "execution_count": null,
      "outputs": [
        {
          "output_type": "stream",
          "name": "stdout",
          "text": [
            "+----------+--------------------+\n",
            "|ID Cliente|  FREQ_COMPRA_MENSAL|\n",
            "+----------+--------------------+\n",
            "|       594| 0.06569343065693431|\n",
            "|       327|  0.8042895442359249|\n",
            "|       627|  0.1748704663212435|\n",
            "|       692|  2.7127659574468086|\n",
            "|       204| 0.08995502248875561|\n",
            "|       728|  0.6060606060606061|\n",
            "|       361|  0.7090103397341211|\n",
            "|        57| 0.11335012594458439|\n",
            "|       283| 0.22751895991332613|\n",
            "|       615|  1.3255813953488371|\n",
            "|       709|  0.0494641384995878|\n",
            "|       900| 0.07042253521126761|\n",
            "|       926|  0.1868629671574179|\n",
            "|       942|  1.0169491525423728|\n",
            "|        14|0.059721300597213006|\n",
            "|        42|  0.4113924050632911|\n",
            "|       225|  1.5489130434782608|\n",
            "|       330| 0.27892561983471076|\n",
            "|       562| 0.11406844106463877|\n",
            "|       786|  0.4444444444444444|\n",
            "+----------+--------------------+\n",
            "only showing top 20 rows\n",
            "\n"
          ]
        }
      ]
    },
    {
      "cell_type": "code",
      "source": [
        "# VALOR TOTAL DE GASTO\n",
        "\n",
        "df_total_gasto = spark.sql(\"\"\"\n",
        "SELECT `ID Cliente`, ROUND(SUM(Valor),2) as VALOR_TOTAL_GASTO\n",
        "FROM df_transacoes\n",
        "GROUP BY `ID Cliente`\n",
        "ORDER BY `VALOR_TOTAL_GASTO` DESC\n",
        "\n",
        "\"\"\").show()"
      ],
      "metadata": {
        "colab": {
          "base_uri": "https://localhost:8080/"
        },
        "id": "QupPuArvKQHL",
        "outputId": "0c5aa342-1881-42c3-bd3b-1c1cb788f325"
      },
      "execution_count": null,
      "outputs": [
        {
          "output_type": "stream",
          "name": "stdout",
          "text": [
            "+----------+-----------------+\n",
            "|ID Cliente|VALOR_TOTAL_GASTO|\n",
            "+----------+-----------------+\n",
            "|       759|          2498.27|\n",
            "|       910|          2370.01|\n",
            "|       470|          2361.46|\n",
            "|       718|          2347.81|\n",
            "|       983|          2346.24|\n",
            "|       692|          2329.25|\n",
            "|       471|          2307.39|\n",
            "|       407|          2297.79|\n",
            "|       685|          2283.31|\n",
            "|       699|          2278.31|\n",
            "|       668|          2269.66|\n",
            "|       246|          2261.08|\n",
            "|       167|          2255.57|\n",
            "|       162|          2254.72|\n",
            "|       917|          2232.73|\n",
            "|       861|          2229.12|\n",
            "|       480|          2193.45|\n",
            "|       506|          2185.63|\n",
            "|       794|           2185.2|\n",
            "|       630|          2171.44|\n",
            "+----------+-----------------+\n",
            "only showing top 20 rows\n",
            "\n"
          ]
        }
      ]
    },
    {
      "cell_type": "code",
      "source": [
        "# GASTO MÉDIO POR TRANSAÇÃO\n",
        "\n",
        "df_gasto_medio_trans = spark.sql(\"\"\"\n",
        "SELECT `ID Cliente`,\n",
        "    ROUND(SUM(VALOR) / COUNT(*), 2) as VALOR_TOTAL_POR_TRANS\n",
        "FROM df_transacoes\n",
        "GROUP BY `ID Cliente`\n",
        "\n",
        "\"\"\").show()\n"
      ],
      "metadata": {
        "colab": {
          "base_uri": "https://localhost:8080/"
        },
        "id": "MdYoBc72K-r5",
        "outputId": "bfe3838b-b8bf-4c9b-ffaf-9db8929d7534"
      },
      "execution_count": null,
      "outputs": [
        {
          "output_type": "stream",
          "name": "stdout",
          "text": [
            "+----------+---------------------+\n",
            "|ID Cliente|VALOR_TOTAL_POR_TRANS|\n",
            "+----------+---------------------+\n",
            "|       148|                98.22|\n",
            "|       463|                93.29|\n",
            "|       471|               135.73|\n",
            "|       496|                85.31|\n",
            "|       833|               101.95|\n",
            "|       243|                98.88|\n",
            "|       392|                114.6|\n",
            "|       540|                92.87|\n",
            "|       623|                93.95|\n",
            "|       737|               105.95|\n",
            "|       858|                129.1|\n",
            "|       897|                88.58|\n",
            "|        31|               102.14|\n",
            "|       516|               136.59|\n",
            "|        85|                65.46|\n",
            "|       137|               118.51|\n",
            "|       251|                88.28|\n",
            "|       451|                114.2|\n",
            "|       580|               103.75|\n",
            "|       808|               100.19|\n",
            "+----------+---------------------+\n",
            "only showing top 20 rows\n",
            "\n"
          ]
        }
      ]
    },
    {
      "cell_type": "markdown",
      "source": [
        "## **Criando flags de janelas para histórico**\n",
        "\n",
        "Criar uma janela temporal movel que indica se a data da transação está dentro dos últimos meses (3, 6 ou 12 meses) em relação à data mais recente de transação para cada cliente.\n",
        "\n",
        "*   Últimos 3 meses;\n",
        "*   Últimos 6 meses;\n",
        "*   Últimos 12 meses\n",
        "\n",
        "\n",
        "\n"
      ],
      "metadata": {
        "id": "KVL941e3YDr_"
      }
    },
    {
      "cell_type": "code",
      "source": [
        "df_temp_01 = spark.sql(\"\"\"\n",
        "SELECT\n",
        "    *,\n",
        "      CASE\n",
        "        WHEN Data BETWEEN DATE_ADD(MAX(Data) OVER (PARTITION BY `ID Cliente`), -90) AND MAX(Data) OVER (PARTITION BY `ID Cliente`) THEN 1\n",
        "        ELSE 0\n",
        "    END AS ultimos_3_meses_flag,\n",
        "    CASE\n",
        "        WHEN Data BETWEEN DATE_ADD(MAX(Data) OVER (PARTITION BY `ID Cliente`), -180) AND MAX(Data) OVER (PARTITION BY `ID Cliente`) THEN 1\n",
        "        ELSE 0\n",
        "    END AS ultimos_6_meses_flag,\n",
        "    CASE\n",
        "        WHEN Data BETWEEN DATE_ADD(MAX(Data) OVER (PARTITION BY `ID Cliente`), -365) AND MAX(Data) OVER (PARTITION BY `ID Cliente`) THEN 1\n",
        "        ELSE 0\n",
        "    END AS ultimos_12_meses_flag\n",
        "FROM df_transacoes\n",
        "ORDER BY `ID Cliente`;\n",
        "\"\"\")\n",
        "df_temp_01.createOrReplaceTempView(\"df_temp_01\")\n",
        "df_temp_01.count()"
      ],
      "metadata": {
        "colab": {
          "base_uri": "https://localhost:8080/"
        },
        "id": "PL6kDjAwjP0d",
        "outputId": "bb37d8d3-f07f-44d7-95c4-fb2fa9f5a941"
      },
      "execution_count": null,
      "outputs": [
        {
          "output_type": "execute_result",
          "data": {
            "text/plain": [
              "10171"
            ]
          },
          "metadata": {},
          "execution_count": 12
        }
      ]
    },
    {
      "cell_type": "code",
      "source": [
        "df_temp_01.show(10, False)"
      ],
      "metadata": {
        "colab": {
          "base_uri": "https://localhost:8080/"
        },
        "id": "Jva1Dx7Adwir",
        "outputId": "604a9772-0914-4f9e-dcbb-5e7a8139d37b"
      },
      "execution_count": null,
      "outputs": [
        {
          "output_type": "stream",
          "name": "stdout",
          "text": [
            "+------------+----------+-----------------------------+------------------+-----------+--------------------+--------------------+---------------------+\n",
            "|ID Transação|ID Cliente|Data                         |Valor             |Categoria  |ultimos_3_meses_flag|ultimos_6_meses_flag|ultimos_12_meses_flag|\n",
            "+------------+----------+-----------------------------+------------------+-----------+--------------------+--------------------+---------------------+\n",
            "|10          |1         |2020-09-06 21:37:41.946902652|56.524638713138636|Alimentos  |0                   |0                   |0                    |\n",
            "|9           |1         |2022-11-02 12:50:58.407079648|193.00568791656067|Livros     |1                   |1                   |1                    |\n",
            "|4           |1         |2022-02-05 01:39:49.380530968|199.38694865538451|Roupas     |0                   |0                   |1                    |\n",
            "|8           |1         |2020-10-06 12:14:52.035398228|53.20607404593595 |Roupas     |0                   |0                   |0                    |\n",
            "|5           |1         |2022-11-16 23:06:54.159292032|160.00228343317622|Eletrônicos|1                   |1                   |1                    |\n",
            "|2           |1         |2020-01-19 12:27:36.637168141|97.07199340552512 |Alimentos  |0                   |0                   |0                    |\n",
            "|3           |1         |2021-12-28 12:33:58.938053096|169.10581012381087|Livros     |0                   |0                   |1                    |\n",
            "|6           |1         |2020-04-25 12:42:28.672566372|9.842481270765422 |Alimentos  |0                   |0                   |0                    |\n",
            "|7           |1         |2022-10-31 22:05:18.584070800|76.90706330227667 |Eletrônicos|1                   |1                   |1                    |\n",
            "|1           |1         |2022-11-25 13:50:26.548672560|57.287427536330505|Esportes   |1                   |1                   |1                    |\n",
            "+------------+----------+-----------------------------+------------------+-----------+--------------------+--------------------+---------------------+\n",
            "only showing top 10 rows\n",
            "\n"
          ]
        }
      ]
    },
    {
      "cell_type": "markdown",
      "source": [
        "## **Criando variáveis explicativas de primeira camada**\n",
        "\n",
        "Aqui será criado variáveis como a média, minimo, soma e máximo dos valores para cada tipo de consumo."
      ],
      "metadata": {
        "id": "GdyInTy_sNoV"
      }
    },
    {
      "cell_type": "code",
      "source": [
        "df_temp_02 = spark.sql(\"\"\"\n",
        "select\n",
        "    `ID Cliente`,\n",
        "    round(sum(Valor),2) as VL_TOT_CONSUMO,\n",
        "    round(avg(Valor),2) as VL_MED_CONSUMO,\n",
        "    round(max(Valor),2) as VL_MAX_CONSUMO,\n",
        "    round(min(Valor),2) as VL_MIN_CONSUMO,\n",
        "    round(sum(case when Categoria = 'Esportes' then Valor else 0 end),2) as VL_TOT_CONS_ESPORTES,\n",
        "    round(avg(case when Categoria = 'Esportes' then Valor else NULL end),2) as VL_MED_CONS_ESPORTES,\n",
        "    round(max(case when Categoria = 'Esportes' then Valor else NULL end), 2) AS VL_MAX_CONS_ESPORTES,\n",
        "    round(min(case when Categoria = 'Esportes' then Valor else NULL end), 2) AS VL_MIN_CONS_ESPORTES,\n",
        "    round(avg(case when Categoria = 'Esportes' and ultimos_3_meses_flag = 1 then Valor else NULL end),2) as VL_MED_U3M_CONS_ESPORTES,\n",
        "    round(avg(case when Categoria = 'Esportes' and ultimos_6_meses_flag = 1 then Valor else NULL end),2) as VL_MED_U6M_CONS_ESPORTES,\n",
        "    round(avg(case when Categoria = 'Esportes' and ultimos_12_meses_flag = 1 then Valor else NULL end),2) as VL_MED_U12M_CONS_ESPORTES,\n",
        "    round(sum(case when Categoria = 'Alimentos' then Valor else 0 end),2) as VL_TOT_CONS_Alimentos,\n",
        "    round(avg(case when Categoria = 'Alimentos' then Valor else NULL end),2) as VL_MED_CONS_Alimentos,\n",
        "    round(max(case when Categoria = 'Alimentos' then Valor else NULL end), 2) AS VL_MAX_CONS_Alimentos,\n",
        "    round(min(case when Categoria = 'Alimentos' then Valor else NULL end), 2) AS VL_MIN_CONS_Alimentos,\n",
        "    round(avg(case when Categoria = 'Alimentos' and ultimos_3_meses_flag = 1 then Valor else NULL end),2) as VL_MED_U3M_CONS_Alimentos,\n",
        "    round(avg(case when Categoria = 'Alimentos' and ultimos_6_meses_flag = 1 then Valor else NULL end),2) as VL_MED_U6M_CONS_Alimentos,\n",
        "    round(avg(case when Categoria = 'Alimentos' and ultimos_12_meses_flag = 1 then Valor else NULL end),2) as VL_MED_U12M_CONS_Alimentos,\n",
        "    round(sum(case when Categoria = 'Livros' then Valor else 0 end),2) as VL_TOT_CONS_Livros,\n",
        "    round(avg(case when Categoria = 'Livros' then Valor else 0 end),2) as VL_MED_CONS_Livros,\n",
        "    round(max(case when Categoria = 'Livros' then Valor else 0 end),2) as VL_MAX_CONS_Livros,\n",
        "    round(min(case when Categoria = 'Livros' then Valor else 0 end),2) as VL_MIN_CONS_Livros,\n",
        "    round(avg(case when Categoria = 'Livros' and ultimos_3_meses_flag = 1 then Valor else NULL end),2) as VL_MED_U3M_CONS_Livros,\n",
        "    round(avg(case when Categoria = 'Livros' and ultimos_6_meses_flag = 1 then Valor else NULL end),2) as VL_MED_U6M_CONS_Livros,\n",
        "    round(avg(case when Categoria = 'Livros' and ultimos_12_meses_flag = 1 then Valor else NULL end),2) as VL_MED_U12M_CONS_Livros,\n",
        "    round(sum(case when Categoria = 'Roupas' then Valor else 0 end),2) as VL_TOT_CONS_Roupas,\n",
        "    round(avg(case when Categoria = 'Roupas' then Valor else 0 end),2) as VL_MED_CONS_Roupas,\n",
        "    round(max(case when Categoria = 'Roupas' then Valor else 0 end),2) as VL_MAX_CONS_Roupas,\n",
        "    round(min(case when Categoria = 'Roupas' then Valor else 0 end),2) as VL_MIN_CONS_Roupas,\n",
        "    round(avg(case when Categoria = 'Roupas' and ultimos_3_meses_flag = 1 then Valor else NULL end),2) as VL_MED_U3M_CONS_Roupas,\n",
        "    round(avg(case when Categoria = 'Roupas' and ultimos_6_meses_flag = 1 then Valor else NULL end),2) as VL_MED_U6M_CONS_Roupas,\n",
        "    round(avg(case when Categoria = 'Roupas' and ultimos_12_meses_flag = 1 then Valor else NULL end),2) as VL_MED_U12M_CONS_Roupas,\n",
        "    round(sum(case when Categoria = 'Eletronicos' then Valor else 0 end),2) as VL_TOT_CONS_Eletronicos,\n",
        "    round(avg(case when Categoria = 'Eletronicos' then Valor else 0 end),2) as VL_MED_CONS_Eletronicos,\n",
        "    round(max(case when Categoria = 'Eletronicos' then Valor else 0 end),2) as VL_MAX_CONS_Eletronicos,\n",
        "    round(min(case when Categoria = 'Eletronicos' then Valor else 0 end),2) as VL_MIN_CONS_Eletronicos,\n",
        "    round(avg(case when Categoria = 'Eletronicos' and ultimos_3_meses_flag = 1 then Valor else NULL end),2) as VL_MED_U3M_CONS_Eletronicos,\n",
        "    round(avg(case when Categoria = 'Eletronicos' and ultimos_6_meses_flag = 1 then Valor else NULL end),2) as VL_MED_U6M_CONS_Eletronicos,\n",
        "    round(avg(case when Categoria = 'Eletronicos' and ultimos_12_meses_flag = 1 then Valor else NULL end),2) as VL_MED_U12M_CONS_Eletronicos\n",
        "from df_temp_01\n",
        "group by `ID Cliente`\n",
        "order by `ID Cliente`\n",
        "\"\"\")\n",
        "\n",
        "df_temp_02.createOrReplaceTempView(\"df_temp_02\")\n",
        "df_temp_02.count()"
      ],
      "metadata": {
        "colab": {
          "base_uri": "https://localhost:8080/"
        },
        "id": "v4a17d_h7671",
        "outputId": "e558cfbf-d50b-404c-d9f0-b8d508b04274"
      },
      "execution_count": null,
      "outputs": [
        {
          "output_type": "execute_result",
          "data": {
            "text/plain": [
              "1000"
            ]
          },
          "metadata": {},
          "execution_count": 13
        }
      ]
    },
    {
      "cell_type": "code",
      "source": [
        "df_temp_02.show()"
      ],
      "metadata": {
        "colab": {
          "base_uri": "https://localhost:8080/"
        },
        "id": "1q7UDa8Shg99",
        "outputId": "45833743-04be-4def-9695-d3fe801a51e4"
      },
      "execution_count": null,
      "outputs": [
        {
          "output_type": "stream",
          "name": "stdout",
          "text": [
            "+----------+--------------+--------------+--------------+--------------+--------------------+--------------------+--------------------+--------------------+------------------------+------------------------+-------------------------+---------------------+---------------------+---------------------+---------------------+-------------------------+-------------------------+--------------------------+------------------+------------------+------------------+------------------+----------------------+----------------------+-----------------------+------------------+------------------+------------------+------------------+----------------------+----------------------+-----------------------+-----------------------+-----------------------+-----------------------+-----------------------+---------------------------+---------------------------+----------------------------+\n",
            "|ID Cliente|VL_TOT_CONSUMO|VL_MED_CONSUMO|VL_MAX_CONSUMO|VL_MIN_CONSUMO|VL_TOT_CONS_ESPORTES|VL_MED_CONS_ESPORTES|VL_MAX_CONS_ESPORTES|VL_MIN_CONS_ESPORTES|VL_MED_U3M_CONS_ESPORTES|VL_MED_U6M_CONS_ESPORTES|VL_MED_U12M_CONS_ESPORTES|VL_TOT_CONS_Alimentos|VL_MED_CONS_Alimentos|VL_MAX_CONS_Alimentos|VL_MIN_CONS_Alimentos|VL_MED_U3M_CONS_Alimentos|VL_MED_U6M_CONS_Alimentos|VL_MED_U12M_CONS_Alimentos|VL_TOT_CONS_Livros|VL_MED_CONS_Livros|VL_MAX_CONS_Livros|VL_MIN_CONS_Livros|VL_MED_U3M_CONS_Livros|VL_MED_U6M_CONS_Livros|VL_MED_U12M_CONS_Livros|VL_TOT_CONS_Roupas|VL_MED_CONS_Roupas|VL_MAX_CONS_Roupas|VL_MIN_CONS_Roupas|VL_MED_U3M_CONS_Roupas|VL_MED_U6M_CONS_Roupas|VL_MED_U12M_CONS_Roupas|VL_TOT_CONS_Eletronicos|VL_MED_CONS_Eletronicos|VL_MAX_CONS_Eletronicos|VL_MIN_CONS_Eletronicos|VL_MED_U3M_CONS_Eletronicos|VL_MED_U6M_CONS_Eletronicos|VL_MED_U12M_CONS_Eletronicos|\n",
            "+----------+--------------+--------------+--------------+--------------+--------------------+--------------------+--------------------+--------------------+------------------------+------------------------+-------------------------+---------------------+---------------------+---------------------+---------------------+-------------------------+-------------------------+--------------------------+------------------+------------------+------------------+------------------+----------------------+----------------------+-----------------------+------------------+------------------+------------------+------------------+----------------------+----------------------+-----------------------+-----------------------+-----------------------+-----------------------+-----------------------+---------------------------+---------------------------+----------------------------+\n",
            "|         1|       1976.56|        116.27|        199.39|          5.39|              226.73|              113.37|              169.44|               57.29|                   57.29|                   57.29|                    57.29|               351.26|                87.81|               187.82|                 9.84|                     null|                   187.82|                    187.82|            551.06|             32.42|            193.01|               0.0|                193.01|                193.01|                 183.69|            450.79|             26.52|            199.39|               0.0|                  96.4|                 66.07|                   99.4|                    0.0|                    0.0|                    0.0|                    0.0|                       null|                       null|                        null|\n",
            "|         2|        1017.8|        101.78|        192.63|         47.58|              275.47|               91.82|               111.9|               57.35|                   57.35|                   57.35|                    84.62|               109.58|                54.79|                 62.0|                47.58|                    47.58|                    54.79|                     54.79|            340.59|             34.06|            192.63|               0.0|                  null|                  null|                   null|               0.0|               0.0|               0.0|               0.0|                  null|                  null|                   null|                    0.0|                    0.0|                    0.0|                    0.0|                       null|                       null|                        null|\n",
            "|         3|        997.81|        110.87|        191.09|         41.91|              327.09|              163.55|              164.27|              162.82|                  164.27|                  164.27|                   164.27|               247.52|               123.76|               191.09|                56.43|                     null|                     null|                      null|            105.81|             11.76|              63.9|               0.0|                  null|                  null|                   null|               0.0|               0.0|               0.0|               0.0|                  null|                  null|                   null|                    0.0|                    0.0|                    0.0|                    0.0|                       null|                       null|                        null|\n",
            "|         4|       1009.77|        126.22|        199.35|         41.01|              199.35|              199.35|              199.35|              199.35|                    null|                    null|                     null|               103.19|               103.19|               103.19|               103.19|                   103.19|                   103.19|                    103.19|             48.18|              6.02|             48.18|               0.0|                  null|                  null|                   null|            367.89|             45.99|            189.06|               0.0|                  null|                178.83|                 183.94|                    0.0|                    0.0|                    0.0|                    0.0|                       null|                       null|                        null|\n",
            "|         5|       1755.18|        117.01|        170.78|         16.25|              436.01|               109.0|              148.03|                75.2|                    null|                    null|                   148.03|               292.37|               146.19|               156.48|               135.89|                     null|                     null|                      null|             16.25|              1.08|             16.25|               0.0|                  null|                  null|                   null|            303.13|             20.21|            153.02|               0.0|                150.11|                150.11|                 150.11|                    0.0|                    0.0|                    0.0|                    0.0|                       null|                       null|                        null|\n",
            "|         6|       1841.53|        141.66|        199.29|           8.9|              395.05|              131.68|              179.92|               87.79|                  127.34|                  127.34|                   127.34|               373.42|               186.71|               187.07|               186.35|                     null|                     null|                      null|            371.56|             28.58|            199.29|               0.0|                  null|                  null|                 199.29|            499.17|              38.4|            189.02|               0.0|                  null|                  null|                   null|                    0.0|                    0.0|                    0.0|                    0.0|                       null|                       null|                        null|\n",
            "|         7|       1671.35|         98.31|        180.02|         21.47|               137.2|                68.6|                97.0|                40.2|                    97.0|                    68.6|                     68.6|               270.44|                90.15|               110.44|                51.54|                     null|                    51.54|                     51.54|            463.88|             27.29|             123.6|               0.0|                  null|                  null|                  92.03|            227.68|             13.39|            123.73|               0.0|                103.96|                103.96|                 103.96|                    0.0|                    0.0|                    0.0|                    0.0|                       null|                       null|                        null|\n",
            "|         8|        841.03|         93.45|        164.54|         22.74|              150.17|              150.17|              150.17|              150.17|                    null|                    null|                   150.17|               113.95|                56.97|                91.21|                22.74|                     null|                     null|                     56.97|             69.79|              7.75|             69.79|               0.0|                  null|                  null|                   null|            118.38|             13.15|            118.38|               0.0|                  null|                  null|                   null|                    0.0|                    0.0|                    0.0|                    0.0|                       null|                       null|                        null|\n",
            "|         9|       1019.13|         92.65|        196.06|         14.62|              286.48|               95.49|              114.46|               60.85|                    null|                    null|                     null|               172.42|                43.11|                70.52|                14.62|                    51.77|                    51.77|                     43.64|            330.45|             30.04|            183.12|               0.0|                165.23|                165.23|                 165.23|            229.77|             20.89|            196.06|               0.0|                  null|                  null|                   null|                    0.0|                    0.0|                    0.0|                    0.0|                       null|                       null|                        null|\n",
            "|        10|        416.41|         104.1|        185.66|         15.92|                 0.0|                null|                null|                null|                    null|                    null|                     null|               185.66|               185.66|               185.66|               185.66|                     null|                     null|                    185.66|             15.92|              3.98|             15.92|               0.0|                  null|                  null|                   null|             69.93|             17.48|             69.93|               0.0|                  null|                  null|                   null|                    0.0|                    0.0|                    0.0|                    0.0|                       null|                       null|                        null|\n",
            "|        11|        903.13|        129.02|        197.28|         29.06|               29.06|               29.06|               29.06|               29.06|                    null|                    null|                    29.06|               384.31|               192.16|               197.28|               187.03|                   197.28|                   197.28|                    197.28|             70.41|             10.06|             70.41|               0.0|                  null|                  null|                   null|            419.34|             59.91|            155.73|               0.0|                 138.0|                139.78|                 139.78|                    0.0|                    0.0|                    0.0|                    0.0|                       null|                       null|                        null|\n",
            "|        12|        390.06|        130.02|        181.71|         39.81|                 0.0|                null|                null|                null|                    null|                    null|                     null|                39.81|                39.81|                39.81|                39.81|                     null|                    39.81|                     39.81|               0.0|               0.0|               0.0|               0.0|                  null|                  null|                   null|            181.71|             60.57|            181.71|               0.0|                181.71|                181.71|                 181.71|                    0.0|                    0.0|                    0.0|                    0.0|                       null|                       null|                        null|\n",
            "|        13|        772.55|         77.25|        149.91|         27.54|               55.81|               55.81|               55.81|               55.81|                   55.81|                   55.81|                    55.81|                149.7|                 49.9|                63.62|                27.54|                    58.54|                    58.54|                     43.04|            398.88|             39.89|            149.91|               0.0|                 48.51|                 48.51|                  48.51|             71.18|              7.12|             71.18|               0.0|                  null|                  null|                  71.18|                    0.0|                    0.0|                    0.0|                    0.0|                       null|                       null|                        null|\n",
            "|        14|        192.68|         64.23|        127.28|         13.86|                 0.0|                null|                null|                null|                    null|                    null|                     null|                  0.0|                 null|                 null|                 null|                     null|                     null|                      null|               0.0|               0.0|               0.0|               0.0|                  null|                  null|                   null|             13.86|              4.62|             13.86|               0.0|                  null|                  null|                  13.86|                    0.0|                    0.0|                    0.0|                    0.0|                       null|                       null|                        null|\n",
            "|        15|        158.84|        158.84|        158.84|        158.84|                 0.0|                null|                null|                null|                    null|                    null|                     null|                  0.0|                 null|                 null|                 null|                     null|                     null|                      null|               0.0|               0.0|               0.0|               0.0|                  null|                  null|                   null|               0.0|               0.0|               0.0|               0.0|                  null|                  null|                   null|                    0.0|                    0.0|                    0.0|                    0.0|                       null|                       null|                        null|\n",
            "|        16|       1482.98|        105.93|        183.63|         19.98|              372.95|               93.24|              183.63|               19.98|                  183.63|                  183.63|                   183.63|                46.54|                46.54|                46.54|                46.54|                     null|                     null|                      null|            767.07|             54.79|            166.55|               0.0|                  null|                  null|                 153.87|            142.44|             10.17|             90.82|               0.0|                 90.82|                 90.82|                  90.82|                    0.0|                    0.0|                    0.0|                    0.0|                       null|                       null|                        null|\n",
            "|        17|       1005.44|         77.34|        197.48|         10.01|              318.53|              106.18|              151.37|               47.32|                   47.32|                   47.32|                    47.32|                56.55|                56.55|                56.55|                56.55|                     null|                     null|                     56.55|            291.45|             22.42|             97.04|               0.0|                  null|                  null|                   null|            131.42|             10.11|             62.09|               0.0|                  null|                 48.22|                  43.81|                    0.0|                    0.0|                    0.0|                    0.0|                       null|                       null|                        null|\n",
            "|        18|        284.77|         56.95|        138.08|         10.88|                 0.0|                null|                null|                null|                    null|                    null|                     null|                77.69|                38.84|                51.28|                26.41|                     null|                     null|                      null|            207.08|             41.42|            138.08|               0.0|                 10.88|                 10.88|                   34.5|               0.0|               0.0|               0.0|               0.0|                  null|                  null|                   null|                    0.0|                    0.0|                    0.0|                    0.0|                       null|                       null|                        null|\n",
            "|        19|        790.42|          98.8|         194.6|         25.56|              220.42|               73.47|              137.22|               25.56|                   57.63|                   57.63|                    57.63|                  0.0|                 null|                 null|                 null|                     null|                     null|                      null|            185.42|             23.18|             95.86|               0.0|                  null|                  null|                  95.86|            189.98|             23.75|            100.98|               0.0|                  89.0|                  89.0|                   89.0|                    0.0|                    0.0|                    0.0|                    0.0|                       null|                       null|                        null|\n",
            "|        20|        979.35|         81.61|        172.52|          5.49|              476.36|              119.09|              167.88|               23.89|                  155.72|                  155.72|                   142.29|               273.51|               136.75|               172.52|               100.99|                     null|                   172.52|                    136.75|             71.01|              5.92|             71.01|               0.0|                  null|                  null|                   null|             65.73|              5.48|              46.7|               0.0|                  null|                  null|                   null|                    0.0|                    0.0|                    0.0|                    0.0|                       null|                       null|                        null|\n",
            "+----------+--------------+--------------+--------------+--------------+--------------------+--------------------+--------------------+--------------------+------------------------+------------------------+-------------------------+---------------------+---------------------+---------------------+---------------------+-------------------------+-------------------------+--------------------------+------------------+------------------+------------------+------------------+----------------------+----------------------+-----------------------+------------------+------------------+------------------+------------------+----------------------+----------------------+-----------------------+-----------------------+-----------------------+-----------------------+-----------------------+---------------------------+---------------------------+----------------------------+\n",
            "only showing top 20 rows\n",
            "\n"
          ]
        }
      ]
    },
    {
      "cell_type": "markdown",
      "source": [
        "## **Criando variaveis explicativas de segunda camada**\n",
        "\n",
        "Razão entre variáveis históricas. A razão captura as tendências ao longo de um período de tempo."
      ],
      "metadata": {
        "id": "Plq2_s9Zl2vk"
      }
    },
    {
      "cell_type": "code",
      "source": [
        "df_temp_03 = spark.sql(\"\"\"\n",
        "Select\n",
        "*,\n",
        "round(VL_MED_U3M_CONS_ESPORTES/VL_MED_U6M_CONS_ESPORTES,2) as VL_RAZ_MED_U3M_U6M_CONS_ESP,\n",
        "round(VL_MED_U6M_CONS_ESPORTES/VL_MED_U12M_CONS_ESPORTES,2) as VL_RAZ_MED_U6M_U12M_CONS_ESP,\n",
        "round(VL_MED_U3M_CONS_Alimentos/VL_MED_U6M_CONS_ALimentos,2) as VL_RAZ_MED_U3M_U6M_CONS_ALI,\n",
        "round(VL_MED_U6M_CONS_Alimentos/VL_MED_U12M_CONS_Alimentos,2) as VL_RAZ_MED_U6M_U12M_CONS_ALI,\n",
        "round(VL_MED_U3M_CONS_Livros/VL_MED_U6M_CONS_Livros,2) as VL_RAZ_MED_U3M_U6M_CONS_Livros,\n",
        "round(VL_MED_U6M_CONS_Livros/VL_MED_U12M_CONS_Livros,2) as VL_RAZ_MED_U6M_U12M_CONS_Livros,\n",
        "round(VL_MED_U3M_CONS_Roupas/VL_MED_U6M_CONS_Roupas,2) as VL_RAZ_MED_U3M_U6M_CONS_Roupas,\n",
        "round(VL_MED_U6M_CONS_Roupas/VL_MED_U12M_CONS_Roupas,2) as VL_RAZ_MED_U6M_U12M_CONS_Roupas,\n",
        "round(VL_MED_U3M_CONS_Eletronicos/VL_MED_U6M_CONS_Eletronicos,2) as VL_RAZ_MED_U3M_U6M_CONS_Elet,\n",
        "round(VL_MED_U6M_CONS_Eletronicos/VL_MED_U12M_CONS_Eletronicos,2) as VL_RAZ_MED_U6M_U12M_CONS_Elet\n",
        "from df_temp_02\n",
        "\n",
        "\"\"\")\n",
        "\n",
        "df_temp_03.createOrReplaceTempView(\"df_temp_03\")\n",
        "df_temp_03.count()"
      ],
      "metadata": {
        "colab": {
          "base_uri": "https://localhost:8080/"
        },
        "id": "AgmDi2ZCncGm",
        "outputId": "1a8c6f16-d6f7-4426-c78c-7db9c22396a5"
      },
      "execution_count": null,
      "outputs": [
        {
          "output_type": "execute_result",
          "data": {
            "text/plain": [
              "1000"
            ]
          },
          "metadata": {},
          "execution_count": 14
        }
      ]
    },
    {
      "cell_type": "code",
      "source": [
        "df_temp_03.show()"
      ],
      "metadata": {
        "colab": {
          "base_uri": "https://localhost:8080/"
        },
        "id": "AkDulfYeZjI9",
        "outputId": "4a83b516-5dbf-460c-8981-7b6991c6610f"
      },
      "execution_count": null,
      "outputs": [
        {
          "output_type": "stream",
          "name": "stdout",
          "text": [
            "+----------+--------------+--------------+--------------+--------------+--------------------+--------------------+--------------------+--------------------+------------------------+------------------------+-------------------------+---------------------+---------------------+---------------------+---------------------+-------------------------+-------------------------+--------------------------+------------------+------------------+------------------+------------------+----------------------+----------------------+-----------------------+------------------+------------------+------------------+------------------+----------------------+----------------------+-----------------------+-----------------------+-----------------------+-----------------------+-----------------------+---------------------------+---------------------------+----------------------------+---------------------------+----------------------------+---------------------------+----------------------------+------------------------------+-------------------------------+------------------------------+-------------------------------+----------------------------+-----------------------------+\n",
            "|ID Cliente|VL_TOT_CONSUMO|VL_MED_CONSUMO|VL_MAX_CONSUMO|VL_MIN_CONSUMO|VL_TOT_CONS_ESPORTES|VL_MED_CONS_ESPORTES|VL_MAX_CONS_ESPORTES|VL_MIN_CONS_ESPORTES|VL_MED_U3M_CONS_ESPORTES|VL_MED_U6M_CONS_ESPORTES|VL_MED_U12M_CONS_ESPORTES|VL_TOT_CONS_Alimentos|VL_MED_CONS_Alimentos|VL_MAX_CONS_Alimentos|VL_MIN_CONS_Alimentos|VL_MED_U3M_CONS_Alimentos|VL_MED_U6M_CONS_Alimentos|VL_MED_U12M_CONS_Alimentos|VL_TOT_CONS_Livros|VL_MED_CONS_Livros|VL_MAX_CONS_Livros|VL_MIN_CONS_Livros|VL_MED_U3M_CONS_Livros|VL_MED_U6M_CONS_Livros|VL_MED_U12M_CONS_Livros|VL_TOT_CONS_Roupas|VL_MED_CONS_Roupas|VL_MAX_CONS_Roupas|VL_MIN_CONS_Roupas|VL_MED_U3M_CONS_Roupas|VL_MED_U6M_CONS_Roupas|VL_MED_U12M_CONS_Roupas|VL_TOT_CONS_Eletronicos|VL_MED_CONS_Eletronicos|VL_MAX_CONS_Eletronicos|VL_MIN_CONS_Eletronicos|VL_MED_U3M_CONS_Eletronicos|VL_MED_U6M_CONS_Eletronicos|VL_MED_U12M_CONS_Eletronicos|VL_RAZ_MED_U3M_U6M_CONS_ESP|VL_RAZ_MED_U6M_U12M_CONS_ESP|VL_RAZ_MED_U3M_U6M_CONS_ALI|VL_RAZ_MED_U6M_U12M_CONS_ALI|VL_RAZ_MED_U3M_U6M_CONS_Livros|VL_RAZ_MED_U6M_U12M_CONS_Livros|VL_RAZ_MED_U3M_U6M_CONS_Roupas|VL_RAZ_MED_U6M_U12M_CONS_Roupas|VL_RAZ_MED_U3M_U6M_CONS_Elet|VL_RAZ_MED_U6M_U12M_CONS_Elet|\n",
            "+----------+--------------+--------------+--------------+--------------+--------------------+--------------------+--------------------+--------------------+------------------------+------------------------+-------------------------+---------------------+---------------------+---------------------+---------------------+-------------------------+-------------------------+--------------------------+------------------+------------------+------------------+------------------+----------------------+----------------------+-----------------------+------------------+------------------+------------------+------------------+----------------------+----------------------+-----------------------+-----------------------+-----------------------+-----------------------+-----------------------+---------------------------+---------------------------+----------------------------+---------------------------+----------------------------+---------------------------+----------------------------+------------------------------+-------------------------------+------------------------------+-------------------------------+----------------------------+-----------------------------+\n",
            "|         1|       1976.56|        116.27|        199.39|          5.39|              226.73|              113.37|              169.44|               57.29|                   57.29|                   57.29|                    57.29|               351.26|                87.81|               187.82|                 9.84|                     null|                   187.82|                    187.82|            551.06|             32.42|            193.01|               0.0|                193.01|                193.01|                 183.69|            450.79|             26.52|            199.39|               0.0|                  96.4|                 66.07|                   99.4|                    0.0|                    0.0|                    0.0|                    0.0|                       null|                       null|                        null|                        1.0|                         1.0|                       null|                         1.0|                           1.0|                           1.05|                          1.46|                           0.66|                        null|                         null|\n",
            "|         2|        1017.8|        101.78|        192.63|         47.58|              275.47|               91.82|               111.9|               57.35|                   57.35|                   57.35|                    84.62|               109.58|                54.79|                 62.0|                47.58|                    47.58|                    54.79|                     54.79|            340.59|             34.06|            192.63|               0.0|                  null|                  null|                   null|               0.0|               0.0|               0.0|               0.0|                  null|                  null|                   null|                    0.0|                    0.0|                    0.0|                    0.0|                       null|                       null|                        null|                        1.0|                        0.68|                       0.87|                         1.0|                          null|                           null|                          null|                           null|                        null|                         null|\n",
            "|         3|        997.81|        110.87|        191.09|         41.91|              327.09|              163.55|              164.27|              162.82|                  164.27|                  164.27|                   164.27|               247.52|               123.76|               191.09|                56.43|                     null|                     null|                      null|            105.81|             11.76|              63.9|               0.0|                  null|                  null|                   null|               0.0|               0.0|               0.0|               0.0|                  null|                  null|                   null|                    0.0|                    0.0|                    0.0|                    0.0|                       null|                       null|                        null|                        1.0|                         1.0|                       null|                        null|                          null|                           null|                          null|                           null|                        null|                         null|\n",
            "|         4|       1009.77|        126.22|        199.35|         41.01|              199.35|              199.35|              199.35|              199.35|                    null|                    null|                     null|               103.19|               103.19|               103.19|               103.19|                   103.19|                   103.19|                    103.19|             48.18|              6.02|             48.18|               0.0|                  null|                  null|                   null|            367.89|             45.99|            189.06|               0.0|                  null|                178.83|                 183.94|                    0.0|                    0.0|                    0.0|                    0.0|                       null|                       null|                        null|                       null|                        null|                        1.0|                         1.0|                          null|                           null|                          null|                           0.97|                        null|                         null|\n",
            "|         5|       1755.18|        117.01|        170.78|         16.25|              436.01|               109.0|              148.03|                75.2|                    null|                    null|                   148.03|               292.37|               146.19|               156.48|               135.89|                     null|                     null|                      null|             16.25|              1.08|             16.25|               0.0|                  null|                  null|                   null|            303.13|             20.21|            153.02|               0.0|                150.11|                150.11|                 150.11|                    0.0|                    0.0|                    0.0|                    0.0|                       null|                       null|                        null|                       null|                        null|                       null|                        null|                          null|                           null|                           1.0|                            1.0|                        null|                         null|\n",
            "|         6|       1841.53|        141.66|        199.29|           8.9|              395.05|              131.68|              179.92|               87.79|                  127.34|                  127.34|                   127.34|               373.42|               186.71|               187.07|               186.35|                     null|                     null|                      null|            371.56|             28.58|            199.29|               0.0|                  null|                  null|                 199.29|            499.17|              38.4|            189.02|               0.0|                  null|                  null|                   null|                    0.0|                    0.0|                    0.0|                    0.0|                       null|                       null|                        null|                        1.0|                         1.0|                       null|                        null|                          null|                           null|                          null|                           null|                        null|                         null|\n",
            "|         7|       1671.35|         98.31|        180.02|         21.47|               137.2|                68.6|                97.0|                40.2|                    97.0|                    68.6|                     68.6|               270.44|                90.15|               110.44|                51.54|                     null|                    51.54|                     51.54|            463.88|             27.29|             123.6|               0.0|                  null|                  null|                  92.03|            227.68|             13.39|            123.73|               0.0|                103.96|                103.96|                 103.96|                    0.0|                    0.0|                    0.0|                    0.0|                       null|                       null|                        null|                       1.41|                         1.0|                       null|                         1.0|                          null|                           null|                           1.0|                            1.0|                        null|                         null|\n",
            "|         8|        841.03|         93.45|        164.54|         22.74|              150.17|              150.17|              150.17|              150.17|                    null|                    null|                   150.17|               113.95|                56.97|                91.21|                22.74|                     null|                     null|                     56.97|             69.79|              7.75|             69.79|               0.0|                  null|                  null|                   null|            118.38|             13.15|            118.38|               0.0|                  null|                  null|                   null|                    0.0|                    0.0|                    0.0|                    0.0|                       null|                       null|                        null|                       null|                        null|                       null|                        null|                          null|                           null|                          null|                           null|                        null|                         null|\n",
            "|         9|       1019.13|         92.65|        196.06|         14.62|              286.48|               95.49|              114.46|               60.85|                    null|                    null|                     null|               172.42|                43.11|                70.52|                14.62|                    51.77|                    51.77|                     43.64|            330.45|             30.04|            183.12|               0.0|                165.23|                165.23|                 165.23|            229.77|             20.89|            196.06|               0.0|                  null|                  null|                   null|                    0.0|                    0.0|                    0.0|                    0.0|                       null|                       null|                        null|                       null|                        null|                        1.0|                        1.19|                           1.0|                            1.0|                          null|                           null|                        null|                         null|\n",
            "|        10|        416.41|         104.1|        185.66|         15.92|                 0.0|                null|                null|                null|                    null|                    null|                     null|               185.66|               185.66|               185.66|               185.66|                     null|                     null|                    185.66|             15.92|              3.98|             15.92|               0.0|                  null|                  null|                   null|             69.93|             17.48|             69.93|               0.0|                  null|                  null|                   null|                    0.0|                    0.0|                    0.0|                    0.0|                       null|                       null|                        null|                       null|                        null|                       null|                        null|                          null|                           null|                          null|                           null|                        null|                         null|\n",
            "|        11|        903.13|        129.02|        197.28|         29.06|               29.06|               29.06|               29.06|               29.06|                    null|                    null|                    29.06|               384.31|               192.16|               197.28|               187.03|                   197.28|                   197.28|                    197.28|             70.41|             10.06|             70.41|               0.0|                  null|                  null|                   null|            419.34|             59.91|            155.73|               0.0|                 138.0|                139.78|                 139.78|                    0.0|                    0.0|                    0.0|                    0.0|                       null|                       null|                        null|                       null|                        null|                        1.0|                         1.0|                          null|                           null|                          0.99|                            1.0|                        null|                         null|\n",
            "|        12|        390.06|        130.02|        181.71|         39.81|                 0.0|                null|                null|                null|                    null|                    null|                     null|                39.81|                39.81|                39.81|                39.81|                     null|                    39.81|                     39.81|               0.0|               0.0|               0.0|               0.0|                  null|                  null|                   null|            181.71|             60.57|            181.71|               0.0|                181.71|                181.71|                 181.71|                    0.0|                    0.0|                    0.0|                    0.0|                       null|                       null|                        null|                       null|                        null|                       null|                         1.0|                          null|                           null|                           1.0|                            1.0|                        null|                         null|\n",
            "|        13|        772.55|         77.25|        149.91|         27.54|               55.81|               55.81|               55.81|               55.81|                   55.81|                   55.81|                    55.81|                149.7|                 49.9|                63.62|                27.54|                    58.54|                    58.54|                     43.04|            398.88|             39.89|            149.91|               0.0|                 48.51|                 48.51|                  48.51|             71.18|              7.12|             71.18|               0.0|                  null|                  null|                  71.18|                    0.0|                    0.0|                    0.0|                    0.0|                       null|                       null|                        null|                        1.0|                         1.0|                        1.0|                        1.36|                           1.0|                            1.0|                          null|                           null|                        null|                         null|\n",
            "|        14|        192.68|         64.23|        127.28|         13.86|                 0.0|                null|                null|                null|                    null|                    null|                     null|                  0.0|                 null|                 null|                 null|                     null|                     null|                      null|               0.0|               0.0|               0.0|               0.0|                  null|                  null|                   null|             13.86|              4.62|             13.86|               0.0|                  null|                  null|                  13.86|                    0.0|                    0.0|                    0.0|                    0.0|                       null|                       null|                        null|                       null|                        null|                       null|                        null|                          null|                           null|                          null|                           null|                        null|                         null|\n",
            "|        15|        158.84|        158.84|        158.84|        158.84|                 0.0|                null|                null|                null|                    null|                    null|                     null|                  0.0|                 null|                 null|                 null|                     null|                     null|                      null|               0.0|               0.0|               0.0|               0.0|                  null|                  null|                   null|               0.0|               0.0|               0.0|               0.0|                  null|                  null|                   null|                    0.0|                    0.0|                    0.0|                    0.0|                       null|                       null|                        null|                       null|                        null|                       null|                        null|                          null|                           null|                          null|                           null|                        null|                         null|\n",
            "|        16|       1482.98|        105.93|        183.63|         19.98|              372.95|               93.24|              183.63|               19.98|                  183.63|                  183.63|                   183.63|                46.54|                46.54|                46.54|                46.54|                     null|                     null|                      null|            767.07|             54.79|            166.55|               0.0|                  null|                  null|                 153.87|            142.44|             10.17|             90.82|               0.0|                 90.82|                 90.82|                  90.82|                    0.0|                    0.0|                    0.0|                    0.0|                       null|                       null|                        null|                        1.0|                         1.0|                       null|                        null|                          null|                           null|                           1.0|                            1.0|                        null|                         null|\n",
            "|        17|       1005.44|         77.34|        197.48|         10.01|              318.53|              106.18|              151.37|               47.32|                   47.32|                   47.32|                    47.32|                56.55|                56.55|                56.55|                56.55|                     null|                     null|                     56.55|            291.45|             22.42|             97.04|               0.0|                  null|                  null|                   null|            131.42|             10.11|             62.09|               0.0|                  null|                 48.22|                  43.81|                    0.0|                    0.0|                    0.0|                    0.0|                       null|                       null|                        null|                        1.0|                         1.0|                       null|                        null|                          null|                           null|                          null|                            1.1|                        null|                         null|\n",
            "|        18|        284.77|         56.95|        138.08|         10.88|                 0.0|                null|                null|                null|                    null|                    null|                     null|                77.69|                38.84|                51.28|                26.41|                     null|                     null|                      null|            207.08|             41.42|            138.08|               0.0|                 10.88|                 10.88|                   34.5|               0.0|               0.0|               0.0|               0.0|                  null|                  null|                   null|                    0.0|                    0.0|                    0.0|                    0.0|                       null|                       null|                        null|                       null|                        null|                       null|                        null|                           1.0|                           0.32|                          null|                           null|                        null|                         null|\n",
            "|        19|        790.42|          98.8|         194.6|         25.56|              220.42|               73.47|              137.22|               25.56|                   57.63|                   57.63|                    57.63|                  0.0|                 null|                 null|                 null|                     null|                     null|                      null|            185.42|             23.18|             95.86|               0.0|                  null|                  null|                  95.86|            189.98|             23.75|            100.98|               0.0|                  89.0|                  89.0|                   89.0|                    0.0|                    0.0|                    0.0|                    0.0|                       null|                       null|                        null|                        1.0|                         1.0|                       null|                        null|                          null|                           null|                           1.0|                            1.0|                        null|                         null|\n",
            "|        20|        979.35|         81.61|        172.52|          5.49|              476.36|              119.09|              167.88|               23.89|                  155.72|                  155.72|                   142.29|               273.51|               136.75|               172.52|               100.99|                     null|                   172.52|                    136.75|             71.01|              5.92|             71.01|               0.0|                  null|                  null|                   null|             65.73|              5.48|              46.7|               0.0|                  null|                  null|                   null|                    0.0|                    0.0|                    0.0|                    0.0|                       null|                       null|                        null|                        1.0|                        1.09|                       null|                        1.26|                          null|                           null|                          null|                           null|                        null|                         null|\n",
            "+----------+--------------+--------------+--------------+--------------+--------------------+--------------------+--------------------+--------------------+------------------------+------------------------+-------------------------+---------------------+---------------------+---------------------+---------------------+-------------------------+-------------------------+--------------------------+------------------+------------------+------------------+------------------+----------------------+----------------------+-----------------------+------------------+------------------+------------------+------------------+----------------------+----------------------+-----------------------+-----------------------+-----------------------+-----------------------+-----------------------+---------------------------+---------------------------+----------------------------+---------------------------+----------------------------+---------------------------+----------------------------+------------------------------+-------------------------------+------------------------------+-------------------------------+----------------------------+-----------------------------+\n",
            "only showing top 20 rows\n",
            "\n"
          ]
        }
      ]
    },
    {
      "cell_type": "markdown",
      "source": [
        "## **Trazer as variáveis explicativas para a base de público**"
      ],
      "metadata": {
        "id": "cFV3arsBaVP0"
      }
    },
    {
      "cell_type": "code",
      "source": [
        "abt_geral = spark.sql(\"\"\"\n",
        "select\n",
        "  p.*,\n",
        "  t.*,\n",
        "  date_format(CURRENT_DATE, 'yyyyMM') as PK_datref,\n",
        "  CURRENT_DATE as PK_DAT_PROC\n",
        "from\n",
        "  df_publico as p\n",
        "left join\n",
        "  df_temp_03 as t\n",
        "on\n",
        "  p.ID = t.`ID Cliente`\n",
        "\n",
        "\"\"\")\n",
        "\n",
        "abt_geral.count()"
      ],
      "metadata": {
        "colab": {
          "base_uri": "https://localhost:8080/"
        },
        "id": "jbDXdE02aYu0",
        "outputId": "82abbbb9-873d-4c2d-f50c-1ed86764b94c"
      },
      "execution_count": null,
      "outputs": [
        {
          "output_type": "execute_result",
          "data": {
            "text/plain": [
              "1000"
            ]
          },
          "metadata": {},
          "execution_count": 16
        }
      ]
    },
    {
      "cell_type": "code",
      "source": [
        "abt_geral.show()"
      ],
      "metadata": {
        "colab": {
          "base_uri": "https://localhost:8080/"
        },
        "id": "kM_GYvaWj7qp",
        "outputId": "6ec0a571-4678-4ecf-8989-c640d037378e"
      },
      "execution_count": null,
      "outputs": [
        {
          "output_type": "stream",
          "name": "stdout",
          "text": [
            "+---+-----+------+----------------------+------------+-------------+-----+----------+--------------+--------------+--------------+--------------+--------------------+--------------------+--------------------+--------------------+------------------------+------------------------+-------------------------+---------------------+---------------------+---------------------+---------------------+-------------------------+-------------------------+--------------------------+------------------+------------------+------------------+------------------+----------------------+----------------------+-----------------------+------------------+------------------+------------------+------------------+----------------------+----------------------+-----------------------+-----------------------+-----------------------+-----------------------+-----------------------+---------------------------+---------------------------+----------------------------+---------------------------+----------------------------+---------------------------+----------------------------+------------------------------+-------------------------------+------------------------------+-------------------------------+----------------------------+-----------------------------+---------+-----------+\n",
            "| ID|Idade|Gênero|Dias desde a Inscrição|Usou Suporte|        Plano|Churn|ID Cliente|VL_TOT_CONSUMO|VL_MED_CONSUMO|VL_MAX_CONSUMO|VL_MIN_CONSUMO|VL_TOT_CONS_ESPORTES|VL_MED_CONS_ESPORTES|VL_MAX_CONS_ESPORTES|VL_MIN_CONS_ESPORTES|VL_MED_U3M_CONS_ESPORTES|VL_MED_U6M_CONS_ESPORTES|VL_MED_U12M_CONS_ESPORTES|VL_TOT_CONS_Alimentos|VL_MED_CONS_Alimentos|VL_MAX_CONS_Alimentos|VL_MIN_CONS_Alimentos|VL_MED_U3M_CONS_Alimentos|VL_MED_U6M_CONS_Alimentos|VL_MED_U12M_CONS_Alimentos|VL_TOT_CONS_Livros|VL_MED_CONS_Livros|VL_MAX_CONS_Livros|VL_MIN_CONS_Livros|VL_MED_U3M_CONS_Livros|VL_MED_U6M_CONS_Livros|VL_MED_U12M_CONS_Livros|VL_TOT_CONS_Roupas|VL_MED_CONS_Roupas|VL_MAX_CONS_Roupas|VL_MIN_CONS_Roupas|VL_MED_U3M_CONS_Roupas|VL_MED_U6M_CONS_Roupas|VL_MED_U12M_CONS_Roupas|VL_TOT_CONS_Eletronicos|VL_MED_CONS_Eletronicos|VL_MAX_CONS_Eletronicos|VL_MIN_CONS_Eletronicos|VL_MED_U3M_CONS_Eletronicos|VL_MED_U6M_CONS_Eletronicos|VL_MED_U12M_CONS_Eletronicos|VL_RAZ_MED_U3M_U6M_CONS_ESP|VL_RAZ_MED_U6M_U12M_CONS_ESP|VL_RAZ_MED_U3M_U6M_CONS_ALI|VL_RAZ_MED_U6M_U12M_CONS_ALI|VL_RAZ_MED_U3M_U6M_CONS_Livros|VL_RAZ_MED_U6M_U12M_CONS_Livros|VL_RAZ_MED_U3M_U6M_CONS_Roupas|VL_RAZ_MED_U6M_U12M_CONS_Roupas|VL_RAZ_MED_U3M_U6M_CONS_Elet|VL_RAZ_MED_U6M_U12M_CONS_Elet|PK_datref|PK_DAT_PROC|\n",
            "+---+-----+------+----------------------+------------+-------------+-----+----------+--------------+--------------+--------------+--------------+--------------------+--------------------+--------------------+--------------------+------------------------+------------------------+-------------------------+---------------------+---------------------+---------------------+---------------------+-------------------------+-------------------------+--------------------------+------------------+------------------+------------------+------------------+----------------------+----------------------+-----------------------+------------------+------------------+------------------+------------------+----------------------+----------------------+-----------------------+-----------------------+-----------------------+-----------------------+-----------------------+---------------------------+---------------------------+----------------------------+---------------------------+----------------------------+---------------------------+----------------------------+------------------------------+-------------------------------+------------------------------+-------------------------------+----------------------------+-----------------------------+---------+-----------+\n",
            "|  1|   21|     F|                  1331|           1|Intermediário|    1|         1|       1976.56|        116.27|        199.39|          5.39|              226.73|              113.37|              169.44|               57.29|                   57.29|                   57.29|                    57.29|               351.26|                87.81|               187.82|                 9.84|                     null|                   187.82|                    187.82|            551.06|             32.42|            193.01|               0.0|                193.01|                193.01|                 183.69|            450.79|             26.52|            199.39|               0.0|                  96.4|                 66.07|                   99.4|                    0.0|                    0.0|                    0.0|                    0.0|                       null|                       null|                        null|                        1.0|                         1.0|                       null|                         1.0|                           1.0|                           1.05|                          1.46|                           0.66|                        null|                         null|   202407| 2024-07-26|\n",
            "|  2|   21|     M|                  1160|           0|Intermediário|    0|         2|        1017.8|        101.78|        192.63|         47.58|              275.47|               91.82|               111.9|               57.35|                   57.35|                   57.35|                    84.62|               109.58|                54.79|                 62.0|                47.58|                    47.58|                    54.79|                     54.79|            340.59|             34.06|            192.63|               0.0|                  null|                  null|                   null|               0.0|               0.0|               0.0|               0.0|                  null|                  null|                   null|                    0.0|                    0.0|                    0.0|                    0.0|                       null|                       null|                        null|                        1.0|                        0.68|                       0.87|                         1.0|                          null|                           null|                          null|                           null|                        null|                         null|   202407| 2024-07-26|\n",
            "|  3|   62|     M|                   454|           1|       Básico|    0|         3|        997.81|        110.87|        191.09|         41.91|              327.09|              163.55|              164.27|              162.82|                  164.27|                  164.27|                   164.27|               247.52|               123.76|               191.09|                56.43|                     null|                     null|                      null|            105.81|             11.76|              63.9|               0.0|                  null|                  null|                   null|               0.0|               0.0|               0.0|               0.0|                  null|                  null|                   null|                    0.0|                    0.0|                    0.0|                    0.0|                       null|                       null|                        null|                        1.0|                         1.0|                       null|                        null|                          null|                           null|                          null|                           null|                        null|                         null|   202407| 2024-07-26|\n",
            "|  4|   64|     M|                   226|           1|Intermediário|    0|         4|       1009.77|        126.22|        199.35|         41.01|              199.35|              199.35|              199.35|              199.35|                    null|                    null|                     null|               103.19|               103.19|               103.19|               103.19|                   103.19|                   103.19|                    103.19|             48.18|              6.02|             48.18|               0.0|                  null|                  null|                   null|            367.89|             45.99|            189.06|               0.0|                  null|                178.83|                 183.94|                    0.0|                    0.0|                    0.0|                    0.0|                       null|                       null|                        null|                       null|                        null|                        1.0|                         1.0|                          null|                           null|                          null|                           0.97|                        null|                         null|   202407| 2024-07-26|\n",
            "|  5|   61|     M|                   474|           1|     Avançado|    0|         5|       1755.18|        117.01|        170.78|         16.25|              436.01|               109.0|              148.03|                75.2|                    null|                    null|                   148.03|               292.37|               146.19|               156.48|               135.89|                     null|                     null|                      null|             16.25|              1.08|             16.25|               0.0|                  null|                  null|                   null|            303.13|             20.21|            153.02|               0.0|                150.11|                150.11|                 150.11|                    0.0|                    0.0|                    0.0|                    0.0|                       null|                       null|                        null|                       null|                        null|                       null|                        null|                          null|                           null|                           1.0|                            1.0|                        null|                         null|   202407| 2024-07-26|\n",
            "|  6|   18|     M|                   419|           0|       Básico|    0|         6|       1841.53|        141.66|        199.29|           8.9|              395.05|              131.68|              179.92|               87.79|                  127.34|                  127.34|                   127.34|               373.42|               186.71|               187.07|               186.35|                     null|                     null|                      null|            371.56|             28.58|            199.29|               0.0|                  null|                  null|                 199.29|            499.17|              38.4|            189.02|               0.0|                  null|                  null|                   null|                    0.0|                    0.0|                    0.0|                    0.0|                       null|                       null|                        null|                        1.0|                         1.0|                       null|                        null|                          null|                           null|                          null|                           null|                        null|                         null|   202407| 2024-07-26|\n",
            "|  7|   52|     M|                  1334|           0|       Básico|    0|         7|       1671.35|         98.31|        180.02|         21.47|               137.2|                68.6|                97.0|                40.2|                    97.0|                    68.6|                     68.6|               270.44|                90.15|               110.44|                51.54|                     null|                    51.54|                     51.54|            463.88|             27.29|             123.6|               0.0|                  null|                  null|                  92.03|            227.68|             13.39|            123.73|               0.0|                103.96|                103.96|                 103.96|                    0.0|                    0.0|                    0.0|                    0.0|                       null|                       null|                        null|                       1.41|                         1.0|                       null|                         1.0|                          null|                           null|                           1.0|                            1.0|                        null|                         null|   202407| 2024-07-26|\n",
            "|  8|   44|     M|                  1124|           1|Intermediário|    0|         8|        841.03|         93.45|        164.54|         22.74|              150.17|              150.17|              150.17|              150.17|                    null|                    null|                   150.17|               113.95|                56.97|                91.21|                22.74|                     null|                     null|                     56.97|             69.79|              7.75|             69.79|               0.0|                  null|                  null|                   null|            118.38|             13.15|            118.38|               0.0|                  null|                  null|                   null|                    0.0|                    0.0|                    0.0|                    0.0|                       null|                       null|                        null|                       null|                        null|                       null|                        null|                          null|                           null|                          null|                           null|                        null|                         null|   202407| 2024-07-26|\n",
            "|  9|   52|     M|                  1256|           1|Intermediário|    0|         9|       1019.13|         92.65|        196.06|         14.62|              286.48|               95.49|              114.46|               60.85|                    null|                    null|                     null|               172.42|                43.11|                70.52|                14.62|                    51.77|                    51.77|                     43.64|            330.45|             30.04|            183.12|               0.0|                165.23|                165.23|                 165.23|            229.77|             20.89|            196.06|               0.0|                  null|                  null|                   null|                    0.0|                    0.0|                    0.0|                    0.0|                       null|                       null|                        null|                       null|                        null|                        1.0|                        1.19|                           1.0|                            1.0|                          null|                           null|                        null|                         null|   202407| 2024-07-26|\n",
            "| 10|   64|     F|                  1197|           0|       Básico|    0|        10|        416.41|         104.1|        185.66|         15.92|                 0.0|                null|                null|                null|                    null|                    null|                     null|               185.66|               185.66|               185.66|               185.66|                     null|                     null|                    185.66|             15.92|              3.98|             15.92|               0.0|                  null|                  null|                   null|             69.93|             17.48|             69.93|               0.0|                  null|                  null|                   null|                    0.0|                    0.0|                    0.0|                    0.0|                       null|                       null|                        null|                       null|                        null|                       null|                        null|                          null|                           null|                          null|                           null|                        null|                         null|   202407| 2024-07-26|\n",
            "| 11|   50|     F|                  1820|           1|Intermediário|    0|        11|        903.13|        129.02|        197.28|         29.06|               29.06|               29.06|               29.06|               29.06|                    null|                    null|                    29.06|               384.31|               192.16|               197.28|               187.03|                   197.28|                   197.28|                    197.28|             70.41|             10.06|             70.41|               0.0|                  null|                  null|                   null|            419.34|             59.91|            155.73|               0.0|                 138.0|                139.78|                 139.78|                    0.0|                    0.0|                    0.0|                    0.0|                       null|                       null|                        null|                       null|                        null|                        1.0|                         1.0|                          null|                           null|                          0.99|                            1.0|                        null|                         null|   202407| 2024-07-26|\n",
            "| 12|   46|     F|                   550|           0|     Avançado|    0|        12|        390.06|        130.02|        181.71|         39.81|                 0.0|                null|                null|                null|                    null|                    null|                     null|                39.81|                39.81|                39.81|                39.81|                     null|                    39.81|                     39.81|               0.0|               0.0|               0.0|               0.0|                  null|                  null|                   null|            181.71|             60.57|            181.71|               0.0|                181.71|                181.71|                 181.71|                    0.0|                    0.0|                    0.0|                    0.0|                       null|                       null|                        null|                       null|                        null|                       null|                         1.0|                          null|                           null|                           1.0|                            1.0|                        null|                         null|   202407| 2024-07-26|\n",
            "| 13|   65|     M|                  1466|           0|     Avançado|    0|        13|        772.55|         77.25|        149.91|         27.54|               55.81|               55.81|               55.81|               55.81|                   55.81|                   55.81|                    55.81|                149.7|                 49.9|                63.62|                27.54|                    58.54|                    58.54|                     43.04|            398.88|             39.89|            149.91|               0.0|                 48.51|                 48.51|                  48.51|             71.18|              7.12|             71.18|               0.0|                  null|                  null|                  71.18|                    0.0|                    0.0|                    0.0|                    0.0|                       null|                       null|                        null|                        1.0|                         1.0|                        1.0|                        1.36|                           1.0|                            1.0|                          null|                           null|                        null|                         null|   202407| 2024-07-26|\n",
            "| 14|   33|     M|                  1507|           0|     Avançado|    0|        14|        192.68|         64.23|        127.28|         13.86|                 0.0|                null|                null|                null|                    null|                    null|                     null|                  0.0|                 null|                 null|                 null|                     null|                     null|                      null|               0.0|               0.0|               0.0|               0.0|                  null|                  null|                   null|             13.86|              4.62|             13.86|               0.0|                  null|                  null|                  13.86|                    0.0|                    0.0|                    0.0|                    0.0|                       null|                       null|                        null|                       null|                        null|                       null|                        null|                          null|                           null|                          null|                           null|                        null|                         null|   202407| 2024-07-26|\n",
            "| 15|   19|     F|                  1292|           1|     Avançado|    1|        15|        158.84|        158.84|        158.84|        158.84|                 0.0|                null|                null|                null|                    null|                    null|                     null|                  0.0|                 null|                 null|                 null|                     null|                     null|                      null|               0.0|               0.0|               0.0|               0.0|                  null|                  null|                   null|               0.0|               0.0|               0.0|               0.0|                  null|                  null|                   null|                    0.0|                    0.0|                    0.0|                    0.0|                       null|                       null|                        null|                       null|                        null|                       null|                        null|                          null|                           null|                          null|                           null|                        null|                         null|   202407| 2024-07-26|\n",
            "| 16|   22|     F|                  1514|           0|       Básico|    1|        16|       1482.98|        105.93|        183.63|         19.98|              372.95|               93.24|              183.63|               19.98|                  183.63|                  183.63|                   183.63|                46.54|                46.54|                46.54|                46.54|                     null|                     null|                      null|            767.07|             54.79|            166.55|               0.0|                  null|                  null|                 153.87|            142.44|             10.17|             90.82|               0.0|                 90.82|                 90.82|                  90.82|                    0.0|                    0.0|                    0.0|                    0.0|                       null|                       null|                        null|                        1.0|                         1.0|                       null|                        null|                          null|                           null|                           1.0|                            1.0|                        null|                         null|   202407| 2024-07-26|\n",
            "| 17|   38|     F|                  1483|           0|Intermediário|    1|        17|       1005.44|         77.34|        197.48|         10.01|              318.53|              106.18|              151.37|               47.32|                   47.32|                   47.32|                    47.32|                56.55|                56.55|                56.55|                56.55|                     null|                     null|                     56.55|            291.45|             22.42|             97.04|               0.0|                  null|                  null|                   null|            131.42|             10.11|             62.09|               0.0|                  null|                 48.22|                  43.81|                    0.0|                    0.0|                    0.0|                    0.0|                       null|                       null|                        null|                        1.0|                         1.0|                       null|                        null|                          null|                           null|                          null|                            1.1|                        null|                         null|   202407| 2024-07-26|\n",
            "| 18|   44|     F|                    32|           0|Intermediário|    0|        18|        284.77|         56.95|        138.08|         10.88|                 0.0|                null|                null|                null|                    null|                    null|                     null|                77.69|                38.84|                51.28|                26.41|                     null|                     null|                      null|            207.08|             41.42|            138.08|               0.0|                 10.88|                 10.88|                   34.5|               0.0|               0.0|               0.0|               0.0|                  null|                  null|                   null|                    0.0|                    0.0|                    0.0|                    0.0|                       null|                       null|                        null|                       null|                        null|                       null|                        null|                           1.0|                           0.32|                          null|                           null|                        null|                         null|   202407| 2024-07-26|\n",
            "| 19|   68|     F|                  1203|           1|     Avançado|    1|        19|        790.42|          98.8|         194.6|         25.56|              220.42|               73.47|              137.22|               25.56|                   57.63|                   57.63|                    57.63|                  0.0|                 null|                 null|                 null|                     null|                     null|                      null|            185.42|             23.18|             95.86|               0.0|                  null|                  null|                  95.86|            189.98|             23.75|            100.98|               0.0|                  89.0|                  89.0|                   89.0|                    0.0|                    0.0|                    0.0|                    0.0|                       null|                       null|                        null|                        1.0|                         1.0|                       null|                        null|                          null|                           null|                           1.0|                            1.0|                        null|                         null|   202407| 2024-07-26|\n",
            "| 20|   35|     F|                  1157|           1|     Avançado|    1|        20|        979.35|         81.61|        172.52|          5.49|              476.36|              119.09|              167.88|               23.89|                  155.72|                  155.72|                   142.29|               273.51|               136.75|               172.52|               100.99|                     null|                   172.52|                    136.75|             71.01|              5.92|             71.01|               0.0|                  null|                  null|                   null|             65.73|              5.48|              46.7|               0.0|                  null|                  null|                   null|                    0.0|                    0.0|                    0.0|                    0.0|                       null|                       null|                        null|                        1.0|                        1.09|                       null|                        1.26|                          null|                           null|                          null|                           null|                        null|                         null|   202407| 2024-07-26|\n",
            "+---+-----+------+----------------------+------------+-------------+-----+----------+--------------+--------------+--------------+--------------+--------------------+--------------------+--------------------+--------------------+------------------------+------------------------+-------------------------+---------------------+---------------------+---------------------+---------------------+-------------------------+-------------------------+--------------------------+------------------+------------------+------------------+------------------+----------------------+----------------------+-----------------------+------------------+------------------+------------------+------------------+----------------------+----------------------+-----------------------+-----------------------+-----------------------+-----------------------+-----------------------+---------------------------+---------------------------+----------------------------+---------------------------+----------------------------+---------------------------+----------------------------+------------------------------+-------------------------------+------------------------------+-------------------------------+----------------------------+-----------------------------+---------+-----------+\n",
            "only showing top 20 rows\n",
            "\n"
          ]
        }
      ]
    },
    {
      "cell_type": "markdown",
      "source": [
        "## **Renomeando campos fora do padrão**\n",
        "\n",
        "Vamos padronizar os nomes das features retirando os espaços, acentos e qualquer outro detalhe que destoa."
      ],
      "metadata": {
        "id": "9MuDD-Cel6hv"
      }
    },
    {
      "cell_type": "code",
      "source": [
        "# Dicionário de renomeação\n",
        "\n",
        "rename_dict = {\n",
        "      \"Gênero\": \"GENERO\",\n",
        "      \"Dias desde a Inscrição\": \"QT_DIAS_DESDE_INSCR\",\n",
        "      \"Usou Suporte\": \"FL_USOU_SUPORTE\",\n",
        "      \"ID Cliente\": \"ID_CLIENTE\",\n",
        "\n",
        "}\n",
        "\n",
        "# Aplicando renomeações\n",
        "for old_name, new_name in rename_dict.items():\n",
        "    abt_geral = abt_geral.withColumnRenamed(old_name, new_name)"
      ],
      "metadata": {
        "id": "PXbUy56hpv00"
      },
      "execution_count": null,
      "outputs": []
    },
    {
      "cell_type": "code",
      "source": [
        "abt_geral.show()"
      ],
      "metadata": {
        "colab": {
          "base_uri": "https://localhost:8080/"
        },
        "id": "K4OZFNuosTem",
        "outputId": "6449cdf4-5c67-4656-bf9c-586fc282a643"
      },
      "execution_count": null,
      "outputs": [
        {
          "output_type": "stream",
          "name": "stdout",
          "text": [
            "+---+-----+------+-------------------+---------------+-------------+-----+----------+--------------+--------------+--------------+--------------+--------------------+--------------------+--------------------+--------------------+------------------------+------------------------+-------------------------+---------------------+---------------------+---------------------+---------------------+-------------------------+-------------------------+--------------------------+------------------+------------------+------------------+------------------+----------------------+----------------------+-----------------------+------------------+------------------+------------------+------------------+----------------------+----------------------+-----------------------+-----------------------+-----------------------+-----------------------+-----------------------+---------------------------+---------------------------+----------------------------+---------------------------+----------------------------+---------------------------+----------------------------+------------------------------+-------------------------------+------------------------------+-------------------------------+----------------------------+-----------------------------+---------+-----------+\n",
            "| ID|Idade|GENERO|QT_DIAS_DESDE_INSCR|FL_USOU_SUPORTE|        Plano|Churn|ID_CLIENTE|VL_TOT_CONSUMO|VL_MED_CONSUMO|VL_MAX_CONSUMO|VL_MIN_CONSUMO|VL_TOT_CONS_ESPORTES|VL_MED_CONS_ESPORTES|VL_MAX_CONS_ESPORTES|VL_MIN_CONS_ESPORTES|VL_MED_U3M_CONS_ESPORTES|VL_MED_U6M_CONS_ESPORTES|VL_MED_U12M_CONS_ESPORTES|VL_TOT_CONS_Alimentos|VL_MED_CONS_Alimentos|VL_MAX_CONS_Alimentos|VL_MIN_CONS_Alimentos|VL_MED_U3M_CONS_Alimentos|VL_MED_U6M_CONS_Alimentos|VL_MED_U12M_CONS_Alimentos|VL_TOT_CONS_Livros|VL_MED_CONS_Livros|VL_MAX_CONS_Livros|VL_MIN_CONS_Livros|VL_MED_U3M_CONS_Livros|VL_MED_U6M_CONS_Livros|VL_MED_U12M_CONS_Livros|VL_TOT_CONS_Roupas|VL_MED_CONS_Roupas|VL_MAX_CONS_Roupas|VL_MIN_CONS_Roupas|VL_MED_U3M_CONS_Roupas|VL_MED_U6M_CONS_Roupas|VL_MED_U12M_CONS_Roupas|VL_TOT_CONS_Eletronicos|VL_MED_CONS_Eletronicos|VL_MAX_CONS_Eletronicos|VL_MIN_CONS_Eletronicos|VL_MED_U3M_CONS_Eletronicos|VL_MED_U6M_CONS_Eletronicos|VL_MED_U12M_CONS_Eletronicos|VL_RAZ_MED_U3M_U6M_CONS_ESP|VL_RAZ_MED_U6M_U12M_CONS_ESP|VL_RAZ_MED_U3M_U6M_CONS_ALI|VL_RAZ_MED_U6M_U12M_CONS_ALI|VL_RAZ_MED_U3M_U6M_CONS_Livros|VL_RAZ_MED_U6M_U12M_CONS_Livros|VL_RAZ_MED_U3M_U6M_CONS_Roupas|VL_RAZ_MED_U6M_U12M_CONS_Roupas|VL_RAZ_MED_U3M_U6M_CONS_Elet|VL_RAZ_MED_U6M_U12M_CONS_Elet|PK_datref|PK_DAT_PROC|\n",
            "+---+-----+------+-------------------+---------------+-------------+-----+----------+--------------+--------------+--------------+--------------+--------------------+--------------------+--------------------+--------------------+------------------------+------------------------+-------------------------+---------------------+---------------------+---------------------+---------------------+-------------------------+-------------------------+--------------------------+------------------+------------------+------------------+------------------+----------------------+----------------------+-----------------------+------------------+------------------+------------------+------------------+----------------------+----------------------+-----------------------+-----------------------+-----------------------+-----------------------+-----------------------+---------------------------+---------------------------+----------------------------+---------------------------+----------------------------+---------------------------+----------------------------+------------------------------+-------------------------------+------------------------------+-------------------------------+----------------------------+-----------------------------+---------+-----------+\n",
            "|  1|   21|     F|               1331|              1|Intermediário|    1|         1|       1976.56|        116.27|        199.39|          5.39|              226.73|              113.37|              169.44|               57.29|                   57.29|                   57.29|                    57.29|               351.26|                87.81|               187.82|                 9.84|                     null|                   187.82|                    187.82|            551.06|             32.42|            193.01|               0.0|                193.01|                193.01|                 183.69|            450.79|             26.52|            199.39|               0.0|                  96.4|                 66.07|                   99.4|                    0.0|                    0.0|                    0.0|                    0.0|                       null|                       null|                        null|                        1.0|                         1.0|                       null|                         1.0|                           1.0|                           1.05|                          1.46|                           0.66|                        null|                         null|   202407| 2024-07-26|\n",
            "|  2|   21|     M|               1160|              0|Intermediário|    0|         2|        1017.8|        101.78|        192.63|         47.58|              275.47|               91.82|               111.9|               57.35|                   57.35|                   57.35|                    84.62|               109.58|                54.79|                 62.0|                47.58|                    47.58|                    54.79|                     54.79|            340.59|             34.06|            192.63|               0.0|                  null|                  null|                   null|               0.0|               0.0|               0.0|               0.0|                  null|                  null|                   null|                    0.0|                    0.0|                    0.0|                    0.0|                       null|                       null|                        null|                        1.0|                        0.68|                       0.87|                         1.0|                          null|                           null|                          null|                           null|                        null|                         null|   202407| 2024-07-26|\n",
            "|  3|   62|     M|                454|              1|       Básico|    0|         3|        997.81|        110.87|        191.09|         41.91|              327.09|              163.55|              164.27|              162.82|                  164.27|                  164.27|                   164.27|               247.52|               123.76|               191.09|                56.43|                     null|                     null|                      null|            105.81|             11.76|              63.9|               0.0|                  null|                  null|                   null|               0.0|               0.0|               0.0|               0.0|                  null|                  null|                   null|                    0.0|                    0.0|                    0.0|                    0.0|                       null|                       null|                        null|                        1.0|                         1.0|                       null|                        null|                          null|                           null|                          null|                           null|                        null|                         null|   202407| 2024-07-26|\n",
            "|  4|   64|     M|                226|              1|Intermediário|    0|         4|       1009.77|        126.22|        199.35|         41.01|              199.35|              199.35|              199.35|              199.35|                    null|                    null|                     null|               103.19|               103.19|               103.19|               103.19|                   103.19|                   103.19|                    103.19|             48.18|              6.02|             48.18|               0.0|                  null|                  null|                   null|            367.89|             45.99|            189.06|               0.0|                  null|                178.83|                 183.94|                    0.0|                    0.0|                    0.0|                    0.0|                       null|                       null|                        null|                       null|                        null|                        1.0|                         1.0|                          null|                           null|                          null|                           0.97|                        null|                         null|   202407| 2024-07-26|\n",
            "|  5|   61|     M|                474|              1|     Avançado|    0|         5|       1755.18|        117.01|        170.78|         16.25|              436.01|               109.0|              148.03|                75.2|                    null|                    null|                   148.03|               292.37|               146.19|               156.48|               135.89|                     null|                     null|                      null|             16.25|              1.08|             16.25|               0.0|                  null|                  null|                   null|            303.13|             20.21|            153.02|               0.0|                150.11|                150.11|                 150.11|                    0.0|                    0.0|                    0.0|                    0.0|                       null|                       null|                        null|                       null|                        null|                       null|                        null|                          null|                           null|                           1.0|                            1.0|                        null|                         null|   202407| 2024-07-26|\n",
            "|  6|   18|     M|                419|              0|       Básico|    0|         6|       1841.53|        141.66|        199.29|           8.9|              395.05|              131.68|              179.92|               87.79|                  127.34|                  127.34|                   127.34|               373.42|               186.71|               187.07|               186.35|                     null|                     null|                      null|            371.56|             28.58|            199.29|               0.0|                  null|                  null|                 199.29|            499.17|              38.4|            189.02|               0.0|                  null|                  null|                   null|                    0.0|                    0.0|                    0.0|                    0.0|                       null|                       null|                        null|                        1.0|                         1.0|                       null|                        null|                          null|                           null|                          null|                           null|                        null|                         null|   202407| 2024-07-26|\n",
            "|  7|   52|     M|               1334|              0|       Básico|    0|         7|       1671.35|         98.31|        180.02|         21.47|               137.2|                68.6|                97.0|                40.2|                    97.0|                    68.6|                     68.6|               270.44|                90.15|               110.44|                51.54|                     null|                    51.54|                     51.54|            463.88|             27.29|             123.6|               0.0|                  null|                  null|                  92.03|            227.68|             13.39|            123.73|               0.0|                103.96|                103.96|                 103.96|                    0.0|                    0.0|                    0.0|                    0.0|                       null|                       null|                        null|                       1.41|                         1.0|                       null|                         1.0|                          null|                           null|                           1.0|                            1.0|                        null|                         null|   202407| 2024-07-26|\n",
            "|  8|   44|     M|               1124|              1|Intermediário|    0|         8|        841.03|         93.45|        164.54|         22.74|              150.17|              150.17|              150.17|              150.17|                    null|                    null|                   150.17|               113.95|                56.97|                91.21|                22.74|                     null|                     null|                     56.97|             69.79|              7.75|             69.79|               0.0|                  null|                  null|                   null|            118.38|             13.15|            118.38|               0.0|                  null|                  null|                   null|                    0.0|                    0.0|                    0.0|                    0.0|                       null|                       null|                        null|                       null|                        null|                       null|                        null|                          null|                           null|                          null|                           null|                        null|                         null|   202407| 2024-07-26|\n",
            "|  9|   52|     M|               1256|              1|Intermediário|    0|         9|       1019.13|         92.65|        196.06|         14.62|              286.48|               95.49|              114.46|               60.85|                    null|                    null|                     null|               172.42|                43.11|                70.52|                14.62|                    51.77|                    51.77|                     43.64|            330.45|             30.04|            183.12|               0.0|                165.23|                165.23|                 165.23|            229.77|             20.89|            196.06|               0.0|                  null|                  null|                   null|                    0.0|                    0.0|                    0.0|                    0.0|                       null|                       null|                        null|                       null|                        null|                        1.0|                        1.19|                           1.0|                            1.0|                          null|                           null|                        null|                         null|   202407| 2024-07-26|\n",
            "| 10|   64|     F|               1197|              0|       Básico|    0|        10|        416.41|         104.1|        185.66|         15.92|                 0.0|                null|                null|                null|                    null|                    null|                     null|               185.66|               185.66|               185.66|               185.66|                     null|                     null|                    185.66|             15.92|              3.98|             15.92|               0.0|                  null|                  null|                   null|             69.93|             17.48|             69.93|               0.0|                  null|                  null|                   null|                    0.0|                    0.0|                    0.0|                    0.0|                       null|                       null|                        null|                       null|                        null|                       null|                        null|                          null|                           null|                          null|                           null|                        null|                         null|   202407| 2024-07-26|\n",
            "| 11|   50|     F|               1820|              1|Intermediário|    0|        11|        903.13|        129.02|        197.28|         29.06|               29.06|               29.06|               29.06|               29.06|                    null|                    null|                    29.06|               384.31|               192.16|               197.28|               187.03|                   197.28|                   197.28|                    197.28|             70.41|             10.06|             70.41|               0.0|                  null|                  null|                   null|            419.34|             59.91|            155.73|               0.0|                 138.0|                139.78|                 139.78|                    0.0|                    0.0|                    0.0|                    0.0|                       null|                       null|                        null|                       null|                        null|                        1.0|                         1.0|                          null|                           null|                          0.99|                            1.0|                        null|                         null|   202407| 2024-07-26|\n",
            "| 12|   46|     F|                550|              0|     Avançado|    0|        12|        390.06|        130.02|        181.71|         39.81|                 0.0|                null|                null|                null|                    null|                    null|                     null|                39.81|                39.81|                39.81|                39.81|                     null|                    39.81|                     39.81|               0.0|               0.0|               0.0|               0.0|                  null|                  null|                   null|            181.71|             60.57|            181.71|               0.0|                181.71|                181.71|                 181.71|                    0.0|                    0.0|                    0.0|                    0.0|                       null|                       null|                        null|                       null|                        null|                       null|                         1.0|                          null|                           null|                           1.0|                            1.0|                        null|                         null|   202407| 2024-07-26|\n",
            "| 13|   65|     M|               1466|              0|     Avançado|    0|        13|        772.55|         77.25|        149.91|         27.54|               55.81|               55.81|               55.81|               55.81|                   55.81|                   55.81|                    55.81|                149.7|                 49.9|                63.62|                27.54|                    58.54|                    58.54|                     43.04|            398.88|             39.89|            149.91|               0.0|                 48.51|                 48.51|                  48.51|             71.18|              7.12|             71.18|               0.0|                  null|                  null|                  71.18|                    0.0|                    0.0|                    0.0|                    0.0|                       null|                       null|                        null|                        1.0|                         1.0|                        1.0|                        1.36|                           1.0|                            1.0|                          null|                           null|                        null|                         null|   202407| 2024-07-26|\n",
            "| 14|   33|     M|               1507|              0|     Avançado|    0|        14|        192.68|         64.23|        127.28|         13.86|                 0.0|                null|                null|                null|                    null|                    null|                     null|                  0.0|                 null|                 null|                 null|                     null|                     null|                      null|               0.0|               0.0|               0.0|               0.0|                  null|                  null|                   null|             13.86|              4.62|             13.86|               0.0|                  null|                  null|                  13.86|                    0.0|                    0.0|                    0.0|                    0.0|                       null|                       null|                        null|                       null|                        null|                       null|                        null|                          null|                           null|                          null|                           null|                        null|                         null|   202407| 2024-07-26|\n",
            "| 15|   19|     F|               1292|              1|     Avançado|    1|        15|        158.84|        158.84|        158.84|        158.84|                 0.0|                null|                null|                null|                    null|                    null|                     null|                  0.0|                 null|                 null|                 null|                     null|                     null|                      null|               0.0|               0.0|               0.0|               0.0|                  null|                  null|                   null|               0.0|               0.0|               0.0|               0.0|                  null|                  null|                   null|                    0.0|                    0.0|                    0.0|                    0.0|                       null|                       null|                        null|                       null|                        null|                       null|                        null|                          null|                           null|                          null|                           null|                        null|                         null|   202407| 2024-07-26|\n",
            "| 16|   22|     F|               1514|              0|       Básico|    1|        16|       1482.98|        105.93|        183.63|         19.98|              372.95|               93.24|              183.63|               19.98|                  183.63|                  183.63|                   183.63|                46.54|                46.54|                46.54|                46.54|                     null|                     null|                      null|            767.07|             54.79|            166.55|               0.0|                  null|                  null|                 153.87|            142.44|             10.17|             90.82|               0.0|                 90.82|                 90.82|                  90.82|                    0.0|                    0.0|                    0.0|                    0.0|                       null|                       null|                        null|                        1.0|                         1.0|                       null|                        null|                          null|                           null|                           1.0|                            1.0|                        null|                         null|   202407| 2024-07-26|\n",
            "| 17|   38|     F|               1483|              0|Intermediário|    1|        17|       1005.44|         77.34|        197.48|         10.01|              318.53|              106.18|              151.37|               47.32|                   47.32|                   47.32|                    47.32|                56.55|                56.55|                56.55|                56.55|                     null|                     null|                     56.55|            291.45|             22.42|             97.04|               0.0|                  null|                  null|                   null|            131.42|             10.11|             62.09|               0.0|                  null|                 48.22|                  43.81|                    0.0|                    0.0|                    0.0|                    0.0|                       null|                       null|                        null|                        1.0|                         1.0|                       null|                        null|                          null|                           null|                          null|                            1.1|                        null|                         null|   202407| 2024-07-26|\n",
            "| 18|   44|     F|                 32|              0|Intermediário|    0|        18|        284.77|         56.95|        138.08|         10.88|                 0.0|                null|                null|                null|                    null|                    null|                     null|                77.69|                38.84|                51.28|                26.41|                     null|                     null|                      null|            207.08|             41.42|            138.08|               0.0|                 10.88|                 10.88|                   34.5|               0.0|               0.0|               0.0|               0.0|                  null|                  null|                   null|                    0.0|                    0.0|                    0.0|                    0.0|                       null|                       null|                        null|                       null|                        null|                       null|                        null|                           1.0|                           0.32|                          null|                           null|                        null|                         null|   202407| 2024-07-26|\n",
            "| 19|   68|     F|               1203|              1|     Avançado|    1|        19|        790.42|          98.8|         194.6|         25.56|              220.42|               73.47|              137.22|               25.56|                   57.63|                   57.63|                    57.63|                  0.0|                 null|                 null|                 null|                     null|                     null|                      null|            185.42|             23.18|             95.86|               0.0|                  null|                  null|                  95.86|            189.98|             23.75|            100.98|               0.0|                  89.0|                  89.0|                   89.0|                    0.0|                    0.0|                    0.0|                    0.0|                       null|                       null|                        null|                        1.0|                         1.0|                       null|                        null|                          null|                           null|                           1.0|                            1.0|                        null|                         null|   202407| 2024-07-26|\n",
            "| 20|   35|     F|               1157|              1|     Avançado|    1|        20|        979.35|         81.61|        172.52|          5.49|              476.36|              119.09|              167.88|               23.89|                  155.72|                  155.72|                   142.29|               273.51|               136.75|               172.52|               100.99|                     null|                   172.52|                    136.75|             71.01|              5.92|             71.01|               0.0|                  null|                  null|                   null|             65.73|              5.48|              46.7|               0.0|                  null|                  null|                   null|                    0.0|                    0.0|                    0.0|                    0.0|                       null|                       null|                        null|                        1.0|                        1.09|                       null|                        1.26|                          null|                           null|                          null|                           null|                        null|                         null|   202407| 2024-07-26|\n",
            "+---+-----+------+-------------------+---------------+-------------+-----+----------+--------------+--------------+--------------+--------------+--------------------+--------------------+--------------------+--------------------+------------------------+------------------------+-------------------------+---------------------+---------------------+---------------------+---------------------+-------------------------+-------------------------+--------------------------+------------------+------------------+------------------+------------------+----------------------+----------------------+-----------------------+------------------+------------------+------------------+------------------+----------------------+----------------------+-----------------------+-----------------------+-----------------------+-----------------------+-----------------------+---------------------------+---------------------------+----------------------------+---------------------------+----------------------------+---------------------------+----------------------------+------------------------------+-------------------------------+------------------------------+-------------------------------+----------------------------+-----------------------------+---------+-----------+\n",
            "only showing top 20 rows\n",
            "\n"
          ]
        }
      ]
    },
    {
      "cell_type": "markdown",
      "source": [
        "## **Dropar a coluna ID**\n",
        "\n",
        "A coluna ID ja está sendo representada pela coluna ID_CLIENTE."
      ],
      "metadata": {
        "id": "LtoIliagvwIk"
      }
    },
    {
      "cell_type": "code",
      "source": [
        "abt_final = abt_geral.drop(\"ID\")\n",
        "abt_final.count()"
      ],
      "metadata": {
        "colab": {
          "base_uri": "https://localhost:8080/"
        },
        "id": "YpvkPXGvwBac",
        "outputId": "50da9577-ad80-409c-8204-2d3ddf60b1bd"
      },
      "execution_count": null,
      "outputs": [
        {
          "output_type": "execute_result",
          "data": {
            "text/plain": [
              "1000"
            ]
          },
          "metadata": {},
          "execution_count": 20
        }
      ]
    },
    {
      "cell_type": "code",
      "source": [
        "abt_final.show()"
      ],
      "metadata": {
        "colab": {
          "base_uri": "https://localhost:8080/"
        },
        "id": "mz0bbcPvwU5Q",
        "outputId": "1f929309-a1a1-4ae6-9629-cb92df144656"
      },
      "execution_count": null,
      "outputs": [
        {
          "output_type": "stream",
          "name": "stdout",
          "text": [
            "+-----+------+-------------------+---------------+-------------+-----+----------+--------------+--------------+--------------+--------------+--------------------+--------------------+--------------------+--------------------+------------------------+------------------------+-------------------------+---------------------+---------------------+---------------------+---------------------+-------------------------+-------------------------+--------------------------+------------------+------------------+------------------+------------------+----------------------+----------------------+-----------------------+------------------+------------------+------------------+------------------+----------------------+----------------------+-----------------------+-----------------------+-----------------------+-----------------------+-----------------------+---------------------------+---------------------------+----------------------------+---------------------------+----------------------------+---------------------------+----------------------------+------------------------------+-------------------------------+------------------------------+-------------------------------+----------------------------+-----------------------------+---------+-----------+\n",
            "|Idade|GENERO|QT_DIAS_DESDE_INSCR|FL_USOU_SUPORTE|        Plano|Churn|ID_CLIENTE|VL_TOT_CONSUMO|VL_MED_CONSUMO|VL_MAX_CONSUMO|VL_MIN_CONSUMO|VL_TOT_CONS_ESPORTES|VL_MED_CONS_ESPORTES|VL_MAX_CONS_ESPORTES|VL_MIN_CONS_ESPORTES|VL_MED_U3M_CONS_ESPORTES|VL_MED_U6M_CONS_ESPORTES|VL_MED_U12M_CONS_ESPORTES|VL_TOT_CONS_Alimentos|VL_MED_CONS_Alimentos|VL_MAX_CONS_Alimentos|VL_MIN_CONS_Alimentos|VL_MED_U3M_CONS_Alimentos|VL_MED_U6M_CONS_Alimentos|VL_MED_U12M_CONS_Alimentos|VL_TOT_CONS_Livros|VL_MED_CONS_Livros|VL_MAX_CONS_Livros|VL_MIN_CONS_Livros|VL_MED_U3M_CONS_Livros|VL_MED_U6M_CONS_Livros|VL_MED_U12M_CONS_Livros|VL_TOT_CONS_Roupas|VL_MED_CONS_Roupas|VL_MAX_CONS_Roupas|VL_MIN_CONS_Roupas|VL_MED_U3M_CONS_Roupas|VL_MED_U6M_CONS_Roupas|VL_MED_U12M_CONS_Roupas|VL_TOT_CONS_Eletronicos|VL_MED_CONS_Eletronicos|VL_MAX_CONS_Eletronicos|VL_MIN_CONS_Eletronicos|VL_MED_U3M_CONS_Eletronicos|VL_MED_U6M_CONS_Eletronicos|VL_MED_U12M_CONS_Eletronicos|VL_RAZ_MED_U3M_U6M_CONS_ESP|VL_RAZ_MED_U6M_U12M_CONS_ESP|VL_RAZ_MED_U3M_U6M_CONS_ALI|VL_RAZ_MED_U6M_U12M_CONS_ALI|VL_RAZ_MED_U3M_U6M_CONS_Livros|VL_RAZ_MED_U6M_U12M_CONS_Livros|VL_RAZ_MED_U3M_U6M_CONS_Roupas|VL_RAZ_MED_U6M_U12M_CONS_Roupas|VL_RAZ_MED_U3M_U6M_CONS_Elet|VL_RAZ_MED_U6M_U12M_CONS_Elet|PK_datref|PK_DAT_PROC|\n",
            "+-----+------+-------------------+---------------+-------------+-----+----------+--------------+--------------+--------------+--------------+--------------------+--------------------+--------------------+--------------------+------------------------+------------------------+-------------------------+---------------------+---------------------+---------------------+---------------------+-------------------------+-------------------------+--------------------------+------------------+------------------+------------------+------------------+----------------------+----------------------+-----------------------+------------------+------------------+------------------+------------------+----------------------+----------------------+-----------------------+-----------------------+-----------------------+-----------------------+-----------------------+---------------------------+---------------------------+----------------------------+---------------------------+----------------------------+---------------------------+----------------------------+------------------------------+-------------------------------+------------------------------+-------------------------------+----------------------------+-----------------------------+---------+-----------+\n",
            "|   21|     F|               1331|              1|Intermediário|    1|         1|       1976.56|        116.27|        199.39|          5.39|              226.73|              113.37|              169.44|               57.29|                   57.29|                   57.29|                    57.29|               351.26|                87.81|               187.82|                 9.84|                     null|                   187.82|                    187.82|            551.06|             32.42|            193.01|               0.0|                193.01|                193.01|                 183.69|            450.79|             26.52|            199.39|               0.0|                  96.4|                 66.07|                   99.4|                    0.0|                    0.0|                    0.0|                    0.0|                       null|                       null|                        null|                        1.0|                         1.0|                       null|                         1.0|                           1.0|                           1.05|                          1.46|                           0.66|                        null|                         null|   202407| 2024-07-26|\n",
            "|   21|     M|               1160|              0|Intermediário|    0|         2|        1017.8|        101.78|        192.63|         47.58|              275.47|               91.82|               111.9|               57.35|                   57.35|                   57.35|                    84.62|               109.58|                54.79|                 62.0|                47.58|                    47.58|                    54.79|                     54.79|            340.59|             34.06|            192.63|               0.0|                  null|                  null|                   null|               0.0|               0.0|               0.0|               0.0|                  null|                  null|                   null|                    0.0|                    0.0|                    0.0|                    0.0|                       null|                       null|                        null|                        1.0|                        0.68|                       0.87|                         1.0|                          null|                           null|                          null|                           null|                        null|                         null|   202407| 2024-07-26|\n",
            "|   62|     M|                454|              1|       Básico|    0|         3|        997.81|        110.87|        191.09|         41.91|              327.09|              163.55|              164.27|              162.82|                  164.27|                  164.27|                   164.27|               247.52|               123.76|               191.09|                56.43|                     null|                     null|                      null|            105.81|             11.76|              63.9|               0.0|                  null|                  null|                   null|               0.0|               0.0|               0.0|               0.0|                  null|                  null|                   null|                    0.0|                    0.0|                    0.0|                    0.0|                       null|                       null|                        null|                        1.0|                         1.0|                       null|                        null|                          null|                           null|                          null|                           null|                        null|                         null|   202407| 2024-07-26|\n",
            "|   64|     M|                226|              1|Intermediário|    0|         4|       1009.77|        126.22|        199.35|         41.01|              199.35|              199.35|              199.35|              199.35|                    null|                    null|                     null|               103.19|               103.19|               103.19|               103.19|                   103.19|                   103.19|                    103.19|             48.18|              6.02|             48.18|               0.0|                  null|                  null|                   null|            367.89|             45.99|            189.06|               0.0|                  null|                178.83|                 183.94|                    0.0|                    0.0|                    0.0|                    0.0|                       null|                       null|                        null|                       null|                        null|                        1.0|                         1.0|                          null|                           null|                          null|                           0.97|                        null|                         null|   202407| 2024-07-26|\n",
            "|   61|     M|                474|              1|     Avançado|    0|         5|       1755.18|        117.01|        170.78|         16.25|              436.01|               109.0|              148.03|                75.2|                    null|                    null|                   148.03|               292.37|               146.19|               156.48|               135.89|                     null|                     null|                      null|             16.25|              1.08|             16.25|               0.0|                  null|                  null|                   null|            303.13|             20.21|            153.02|               0.0|                150.11|                150.11|                 150.11|                    0.0|                    0.0|                    0.0|                    0.0|                       null|                       null|                        null|                       null|                        null|                       null|                        null|                          null|                           null|                           1.0|                            1.0|                        null|                         null|   202407| 2024-07-26|\n",
            "|   18|     M|                419|              0|       Básico|    0|         6|       1841.53|        141.66|        199.29|           8.9|              395.05|              131.68|              179.92|               87.79|                  127.34|                  127.34|                   127.34|               373.42|               186.71|               187.07|               186.35|                     null|                     null|                      null|            371.56|             28.58|            199.29|               0.0|                  null|                  null|                 199.29|            499.17|              38.4|            189.02|               0.0|                  null|                  null|                   null|                    0.0|                    0.0|                    0.0|                    0.0|                       null|                       null|                        null|                        1.0|                         1.0|                       null|                        null|                          null|                           null|                          null|                           null|                        null|                         null|   202407| 2024-07-26|\n",
            "|   52|     M|               1334|              0|       Básico|    0|         7|       1671.35|         98.31|        180.02|         21.47|               137.2|                68.6|                97.0|                40.2|                    97.0|                    68.6|                     68.6|               270.44|                90.15|               110.44|                51.54|                     null|                    51.54|                     51.54|            463.88|             27.29|             123.6|               0.0|                  null|                  null|                  92.03|            227.68|             13.39|            123.73|               0.0|                103.96|                103.96|                 103.96|                    0.0|                    0.0|                    0.0|                    0.0|                       null|                       null|                        null|                       1.41|                         1.0|                       null|                         1.0|                          null|                           null|                           1.0|                            1.0|                        null|                         null|   202407| 2024-07-26|\n",
            "|   44|     M|               1124|              1|Intermediário|    0|         8|        841.03|         93.45|        164.54|         22.74|              150.17|              150.17|              150.17|              150.17|                    null|                    null|                   150.17|               113.95|                56.97|                91.21|                22.74|                     null|                     null|                     56.97|             69.79|              7.75|             69.79|               0.0|                  null|                  null|                   null|            118.38|             13.15|            118.38|               0.0|                  null|                  null|                   null|                    0.0|                    0.0|                    0.0|                    0.0|                       null|                       null|                        null|                       null|                        null|                       null|                        null|                          null|                           null|                          null|                           null|                        null|                         null|   202407| 2024-07-26|\n",
            "|   52|     M|               1256|              1|Intermediário|    0|         9|       1019.13|         92.65|        196.06|         14.62|              286.48|               95.49|              114.46|               60.85|                    null|                    null|                     null|               172.42|                43.11|                70.52|                14.62|                    51.77|                    51.77|                     43.64|            330.45|             30.04|            183.12|               0.0|                165.23|                165.23|                 165.23|            229.77|             20.89|            196.06|               0.0|                  null|                  null|                   null|                    0.0|                    0.0|                    0.0|                    0.0|                       null|                       null|                        null|                       null|                        null|                        1.0|                        1.19|                           1.0|                            1.0|                          null|                           null|                        null|                         null|   202407| 2024-07-26|\n",
            "|   64|     F|               1197|              0|       Básico|    0|        10|        416.41|         104.1|        185.66|         15.92|                 0.0|                null|                null|                null|                    null|                    null|                     null|               185.66|               185.66|               185.66|               185.66|                     null|                     null|                    185.66|             15.92|              3.98|             15.92|               0.0|                  null|                  null|                   null|             69.93|             17.48|             69.93|               0.0|                  null|                  null|                   null|                    0.0|                    0.0|                    0.0|                    0.0|                       null|                       null|                        null|                       null|                        null|                       null|                        null|                          null|                           null|                          null|                           null|                        null|                         null|   202407| 2024-07-26|\n",
            "|   50|     F|               1820|              1|Intermediário|    0|        11|        903.13|        129.02|        197.28|         29.06|               29.06|               29.06|               29.06|               29.06|                    null|                    null|                    29.06|               384.31|               192.16|               197.28|               187.03|                   197.28|                   197.28|                    197.28|             70.41|             10.06|             70.41|               0.0|                  null|                  null|                   null|            419.34|             59.91|            155.73|               0.0|                 138.0|                139.78|                 139.78|                    0.0|                    0.0|                    0.0|                    0.0|                       null|                       null|                        null|                       null|                        null|                        1.0|                         1.0|                          null|                           null|                          0.99|                            1.0|                        null|                         null|   202407| 2024-07-26|\n",
            "|   46|     F|                550|              0|     Avançado|    0|        12|        390.06|        130.02|        181.71|         39.81|                 0.0|                null|                null|                null|                    null|                    null|                     null|                39.81|                39.81|                39.81|                39.81|                     null|                    39.81|                     39.81|               0.0|               0.0|               0.0|               0.0|                  null|                  null|                   null|            181.71|             60.57|            181.71|               0.0|                181.71|                181.71|                 181.71|                    0.0|                    0.0|                    0.0|                    0.0|                       null|                       null|                        null|                       null|                        null|                       null|                         1.0|                          null|                           null|                           1.0|                            1.0|                        null|                         null|   202407| 2024-07-26|\n",
            "|   65|     M|               1466|              0|     Avançado|    0|        13|        772.55|         77.25|        149.91|         27.54|               55.81|               55.81|               55.81|               55.81|                   55.81|                   55.81|                    55.81|                149.7|                 49.9|                63.62|                27.54|                    58.54|                    58.54|                     43.04|            398.88|             39.89|            149.91|               0.0|                 48.51|                 48.51|                  48.51|             71.18|              7.12|             71.18|               0.0|                  null|                  null|                  71.18|                    0.0|                    0.0|                    0.0|                    0.0|                       null|                       null|                        null|                        1.0|                         1.0|                        1.0|                        1.36|                           1.0|                            1.0|                          null|                           null|                        null|                         null|   202407| 2024-07-26|\n",
            "|   33|     M|               1507|              0|     Avançado|    0|        14|        192.68|         64.23|        127.28|         13.86|                 0.0|                null|                null|                null|                    null|                    null|                     null|                  0.0|                 null|                 null|                 null|                     null|                     null|                      null|               0.0|               0.0|               0.0|               0.0|                  null|                  null|                   null|             13.86|              4.62|             13.86|               0.0|                  null|                  null|                  13.86|                    0.0|                    0.0|                    0.0|                    0.0|                       null|                       null|                        null|                       null|                        null|                       null|                        null|                          null|                           null|                          null|                           null|                        null|                         null|   202407| 2024-07-26|\n",
            "|   19|     F|               1292|              1|     Avançado|    1|        15|        158.84|        158.84|        158.84|        158.84|                 0.0|                null|                null|                null|                    null|                    null|                     null|                  0.0|                 null|                 null|                 null|                     null|                     null|                      null|               0.0|               0.0|               0.0|               0.0|                  null|                  null|                   null|               0.0|               0.0|               0.0|               0.0|                  null|                  null|                   null|                    0.0|                    0.0|                    0.0|                    0.0|                       null|                       null|                        null|                       null|                        null|                       null|                        null|                          null|                           null|                          null|                           null|                        null|                         null|   202407| 2024-07-26|\n",
            "|   22|     F|               1514|              0|       Básico|    1|        16|       1482.98|        105.93|        183.63|         19.98|              372.95|               93.24|              183.63|               19.98|                  183.63|                  183.63|                   183.63|                46.54|                46.54|                46.54|                46.54|                     null|                     null|                      null|            767.07|             54.79|            166.55|               0.0|                  null|                  null|                 153.87|            142.44|             10.17|             90.82|               0.0|                 90.82|                 90.82|                  90.82|                    0.0|                    0.0|                    0.0|                    0.0|                       null|                       null|                        null|                        1.0|                         1.0|                       null|                        null|                          null|                           null|                           1.0|                            1.0|                        null|                         null|   202407| 2024-07-26|\n",
            "|   38|     F|               1483|              0|Intermediário|    1|        17|       1005.44|         77.34|        197.48|         10.01|              318.53|              106.18|              151.37|               47.32|                   47.32|                   47.32|                    47.32|                56.55|                56.55|                56.55|                56.55|                     null|                     null|                     56.55|            291.45|             22.42|             97.04|               0.0|                  null|                  null|                   null|            131.42|             10.11|             62.09|               0.0|                  null|                 48.22|                  43.81|                    0.0|                    0.0|                    0.0|                    0.0|                       null|                       null|                        null|                        1.0|                         1.0|                       null|                        null|                          null|                           null|                          null|                            1.1|                        null|                         null|   202407| 2024-07-26|\n",
            "|   44|     F|                 32|              0|Intermediário|    0|        18|        284.77|         56.95|        138.08|         10.88|                 0.0|                null|                null|                null|                    null|                    null|                     null|                77.69|                38.84|                51.28|                26.41|                     null|                     null|                      null|            207.08|             41.42|            138.08|               0.0|                 10.88|                 10.88|                   34.5|               0.0|               0.0|               0.0|               0.0|                  null|                  null|                   null|                    0.0|                    0.0|                    0.0|                    0.0|                       null|                       null|                        null|                       null|                        null|                       null|                        null|                           1.0|                           0.32|                          null|                           null|                        null|                         null|   202407| 2024-07-26|\n",
            "|   68|     F|               1203|              1|     Avançado|    1|        19|        790.42|          98.8|         194.6|         25.56|              220.42|               73.47|              137.22|               25.56|                   57.63|                   57.63|                    57.63|                  0.0|                 null|                 null|                 null|                     null|                     null|                      null|            185.42|             23.18|             95.86|               0.0|                  null|                  null|                  95.86|            189.98|             23.75|            100.98|               0.0|                  89.0|                  89.0|                   89.0|                    0.0|                    0.0|                    0.0|                    0.0|                       null|                       null|                        null|                        1.0|                         1.0|                       null|                        null|                          null|                           null|                           1.0|                            1.0|                        null|                         null|   202407| 2024-07-26|\n",
            "|   35|     F|               1157|              1|     Avançado|    1|        20|        979.35|         81.61|        172.52|          5.49|              476.36|              119.09|              167.88|               23.89|                  155.72|                  155.72|                   142.29|               273.51|               136.75|               172.52|               100.99|                     null|                   172.52|                    136.75|             71.01|              5.92|             71.01|               0.0|                  null|                  null|                   null|             65.73|              5.48|              46.7|               0.0|                  null|                  null|                   null|                    0.0|                    0.0|                    0.0|                    0.0|                       null|                       null|                        null|                        1.0|                        1.09|                       null|                        1.26|                          null|                           null|                          null|                           null|                        null|                         null|   202407| 2024-07-26|\n",
            "+-----+------+-------------------+---------------+-------------+-----+----------+--------------+--------------+--------------+--------------+--------------------+--------------------+--------------------+--------------------+------------------------+------------------------+-------------------------+---------------------+---------------------+---------------------+---------------------+-------------------------+-------------------------+--------------------------+------------------+------------------+------------------+------------------+----------------------+----------------------+-----------------------+------------------+------------------+------------------+------------------+----------------------+----------------------+-----------------------+-----------------------+-----------------------+-----------------------+-----------------------+---------------------------+---------------------------+----------------------------+---------------------------+----------------------------+---------------------------+----------------------------+------------------------------+-------------------------------+------------------------------+-------------------------------+----------------------------+-----------------------------+---------+-----------+\n",
            "only showing top 20 rows\n",
            "\n"
          ]
        }
      ]
    },
    {
      "cell_type": "markdown",
      "source": [],
      "metadata": {
        "id": "3XZi-VgUwg0S"
      }
    }
  ]
}